{
 "cells": [
  {
   "cell_type": "code",
   "execution_count": null,
   "metadata": {},
   "outputs": [],
   "source": [
    "import sys as _sys\n",
    "import os\n",
    "\n",
    "currentPath = os.path.abspath(os.getcwd())\n",
    "\n",
    "split = currentPath.split(\"Cshells\")\n",
    "if len(split)<2:\n",
    "    print(\"Please rename the repository 'Cshells'\")\n",
    "    raise ValueError\n",
    "pathToPythonScripts = split[0] + \"Cshells/python/\"\n",
    "pathToCubicSplines  = split[0] + \"Cshells/ext/torchcubicspline/\"\n",
    "\n",
    "_sys.path.insert(0, pathToPythonScripts)\n",
    "_sys.path.insert(0, pathToCubicSplines)"
   ]
  },
  {
   "cell_type": "code",
   "execution_count": null,
   "metadata": {},
   "outputs": [],
   "source": [
    "import MeshFEM\n",
    "import ElasticRods\n",
    "\n",
    "import average_angle_linkages\n",
    "from bending_validation import suppress_stdout as so\n",
    "import elastic_rods\n",
    "import json\n",
    "from linkage_vis import LinkageViewer\n",
    "import math\n",
    "import matplotlib.pyplot as plt\n",
    "import numpy as np\n",
    "from scipy.interpolate import CubicSpline\n",
    "from scipy.interpolate import interp1d\n",
    "import torch\n",
    "\n",
    "from CShell import CShell, GetEdgesFromCurves\n",
    "from CShellToJSON import ExtractQuantitiesPerSegment\n",
    "from LinkageTopologies import RegularTopology\n",
    "from open_average_angle_linkage import open_average_angle_linkage\n",
    "import py_newton_optimizer\n",
    "\n",
    "torch.set_default_dtype(torch.float64)\n",
    "    \n",
    "def ToNumpy(tensor):\n",
    "    return tensor.cpu().detach().clone().numpy()\n",
    "\n",
    "PI = math.pi"
   ]
  },
  {
   "cell_type": "markdown",
   "metadata": {},
   "source": [
    "# Define a linkage"
   ]
  },
  {
   "cell_type": "code",
   "execution_count": null,
   "metadata": {},
   "outputs": [],
   "source": [
    "nJa  = 3 # Number of joints for the first family of joints\n",
    "nJb  = 2  # Number of joints for the second family of joints\n",
    "\n",
    "nJ, curves, curvesFamily = RegularTopology(nJa, nJb)\n",
    "\n",
    "lengthX   = 10.0\n",
    "lengthY   = 7.0\n",
    "\n",
    "xPos = torch.tile(torch.linspace(0, lengthX, nJa), (nJb,))\n",
    "yPos = torch.repeat_interleave(torch.linspace(0, lengthY, nJb), nJa, dim=0)\n",
    "\n",
    "xOffset = 0.5\n",
    "yOffset = 0.8\n",
    "xPos   += xOffset * torch.tensor([0.0, -1.0, 0.0, 0.0, 1.0, 0.0])\n",
    "yPos   += yOffset * torch.tensor([1.0, 0.0, 1.0, -1.0, 0.0, -1.0])\n",
    "\n",
    "joints = torch.zeros(size=(nJ, 3))\n",
    "joints[:, 0] = xPos\n",
    "joints[:, 1] = yPos\n",
    "\n",
    "rodEdges, rodEdgeToCurve = GetEdgesFromCurves(curves)"
   ]
  },
  {
   "cell_type": "code",
   "execution_count": null,
   "metadata": {},
   "outputs": [],
   "source": [
    "jointsPosition = ToNumpy(joints)\n",
    "rodMaterial    = elastic_rods.RodMaterial('rectangle', 2000, 0.3, [0.60, 0.30])\n",
    "\n",
    "# For the discretization\n",
    "subdivision = 10\n",
    "\n",
    "flatLinkageComp = elastic_rods.RodLinkage(jointsPosition, rodEdges,\n",
    "                                          rod_interleaving_type=elastic_rods.InterleavingType.xshell, subdivision=subdivision)\n",
    "flatLinkageComp = average_angle_linkages.AverageAngleLinkage(flatLinkageComp)\n",
    "\n",
    "driver = flatLinkageComp.centralJoint()\n",
    "flatLinkageComp.setMaterial(rodMaterial)\n",
    "flatLinkageComp.set_design_parameter_config(True, True, True) # Keep length, remove rest curvature, and update the design parameters\n",
    "\n",
    "jdo       = flatLinkageComp.dofOffsetForJoint(driver)\n",
    "fixedVars = list(range(jdo, jdo + 6)) # fix rigid motion for a single joint\n",
    "with so(): elastic_rods.compute_equilibrium(flatLinkageComp, fixedVars=fixedVars)\n",
    "\n",
    "flatViewComp = LinkageViewer(flatLinkageComp, width=1024, height=640)"
   ]
  },
  {
   "cell_type": "code",
   "execution_count": null,
   "metadata": {},
   "outputs": [],
   "source": [
    "flatViewComp.show()"
   ]
  },
  {
   "cell_type": "code",
   "execution_count": null,
   "metadata": {},
   "outputs": [],
   "source": [
    "deployedLinkageComp = average_angle_linkages.AverageAngleLinkage(flatLinkageComp)\n",
    "deployedViewComp    = LinkageViewer(deployedLinkageComp, width=1024, height=640)\n",
    "\n",
    "def equilibriumSolver(tgtAngle, l, opts, fv):\n",
    "    opts.gradTol = 1.0e-4\n",
    "    return average_angle_linkages.compute_equilibrium(l, tgtAngle, options=opts, fixedVars=fv)\n",
    "\n",
    "deployedViewComp.show()"
   ]
  },
  {
   "cell_type": "code",
   "execution_count": null,
   "metadata": {},
   "outputs": [],
   "source": [
    "alphaTar        = np.deg2rad(155)\n",
    "numOpeningSteps = 40\n",
    "maxNewtonIterIntermediate = 20\n",
    "\n",
    "with so(): open_average_angle_linkage(deployedLinkageComp, driver, alphaTar - deployedLinkageComp.averageJointAngle, numOpeningSteps, \n",
    "                                      deployedViewComp, equilibriumSolver=equilibriumSolver, \n",
    "                                      maxNewtonIterationsIntermediate=maxNewtonIterIntermediate)"
   ]
  },
  {
   "cell_type": "markdown",
   "metadata": {},
   "source": [
    "# Define a C-shell"
   ]
  },
  {
   "cell_type": "code",
   "execution_count": null,
   "metadata": {},
   "outputs": [],
   "source": [
    "mult = 5\n",
    "subdivision = 10\n",
    "\n",
    "nCPperRodEdge = [(len(crv) - 1) * [1] for crv in curves]\n",
    "totNCP = sum([sum(el) for el in nCPperRodEdge])\n",
    "curvesDoF = torch.zeros(size=(2 * nJ + totNCP,))\n",
    "curvesDoF[:2*nJ] = torch.tensor(flatLinkageComp.jointPositions().reshape(-1, 3)[:, :2].reshape(-1,))\n",
    "curvesDoF[2*nJ] = -0.15\n",
    "curvesDoF[2*nJ+1] = -0.15\n",
    "curvesDoF[2*nJ+2] = 0.15\n",
    "curvesDoF[2*nJ+3] = 0.15\n",
    "\n",
    "cshell = CShell(\n",
    "    curvesDoF, nJ, curves, curvesFamily, nCPperRodEdge, alphaTar, mult, subdivision, \n",
    "    rodMaterial=rodMaterial, pathSurf=None, newtonOptimizerOptions=None, optimizeAlpha=True, \n",
    "    useSAL=False, attractionMesh=None, targetMesh=None,\n",
    "    dictWeights=None, linkagesGuess=None,\n",
    "    numOpeningSteps=40, maxNewtonIterIntermediate=20, flatOnly=False\n",
    ")\n",
    "\n",
    "deltaAlpha = cshell.flatLinkage.averageJointAngle - flatLinkageComp.averageJointAngle\n",
    "deltaAlpha = 0.3\n",
    "\n",
    "alphaTarCshell = cshell.alphaTar + 0.1\n",
    "\n",
    "cshell = CShell(\n",
    "    curvesDoF, nJ, curves, curvesFamily, nCPperRodEdge, alphaTarCshell, mult, subdivision, \n",
    "    rodMaterial=rodMaterial, pathSurf=None, newtonOptimizerOptions=None, optimizeAlpha=True, \n",
    "    useSAL=False, attractionMesh=None, targetMesh=None,\n",
    "    dictWeights=None, linkagesGuess=None,\n",
    "    numOpeningSteps=40, maxNewtonIterIntermediate=20, flatOnly=False\n",
    ")"
   ]
  },
  {
   "cell_type": "code",
   "execution_count": null,
   "metadata": {},
   "outputs": [],
   "source": [
    "cshell.PlotCurveLinkage()"
   ]
  },
  {
   "cell_type": "code",
   "execution_count": null,
   "metadata": {},
   "outputs": [],
   "source": [
    "cshell.deployedView.show()"
   ]
  },
  {
   "cell_type": "code",
   "execution_count": null,
   "metadata": {},
   "outputs": [],
   "source": []
  }
 ],
 "metadata": {
  "interpreter": {
   "hash": "532253dd1d492a531a4a0e9f5a112e3e98e55d99579588313b14d9cd640c91ba"
  },
  "kernelspec": {
   "display_name": "Python 3 (ipykernel)",
   "language": "python",
   "name": "python3"
  },
  "language_info": {
   "codemirror_mode": {
    "name": "ipython",
    "version": 3
   },
   "file_extension": ".py",
   "mimetype": "text/x-python",
   "name": "python",
   "nbconvert_exporter": "python",
   "pygments_lexer": "ipython3",
   "version": "3.8.16"
  }
 },
 "nbformat": 4,
 "nbformat_minor": 4
}
