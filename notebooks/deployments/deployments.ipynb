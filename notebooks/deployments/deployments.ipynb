{
 "cells": [
  {
   "cell_type": "code",
   "execution_count": null,
   "metadata": {},
   "outputs": [],
   "source": [
    "import sys as _sys\n",
    "import os\n",
    "\n",
    "currentPath = os.path.abspath(os.getcwd())\n",
    "\n",
    "split = currentPath.split(\"Cshells\")\n",
    "if len(split)<2:\n",
    "    print(\"Please rename the repository 'Cshells'\")\n",
    "    raise ValueError\n",
    "pathToPythonScripts = split[0] + \"Cshells/python/\"\n",
    "pathToModels = os.path.join(split[0], \"Cshells/data/models\")\n",
    "pathToOutputs = os.path.join(split[0], \"Cshells/output\")\n",
    "\n",
    "_sys.path.insert(0, pathToPythonScripts)"
   ]
  },
  {
   "cell_type": "code",
   "execution_count": null,
   "metadata": {},
   "outputs": [],
   "source": [
    "import MeshFEM\n",
    "import ElasticRods\n",
    "\n",
    "import average_angle_linkages\n",
    "from bending_validation import suppress_stdout as so\n",
    "import elastic_rods\n",
    "import math\n",
    "import numpy as np\n",
    "import pickle\n",
    "import torch\n",
    "\n",
    "from CShell import CShell\n",
    "from CurvesDoFOptimizer import CurvesDoFOptimizer\n",
    "from linkage_vis import LinkageViewer, LinkageViewerWithSurface\n",
    "import mesh\n",
    "from open_average_angle_linkage import ComputeStressesHistogram, open_average_angle_linkage, RunAndAnalyzeDeployment\n",
    "import py_newton_optimizer\n",
    "from vis.fields import ScalarField\n",
    "from VisUtils import ConvergencePlotsVisualizer, PlotStackedConvergencePlots\n",
    "from VisUtilsDeployment import CompareDeploymentStatistics\n",
    "\n",
    "torch.set_default_dtype(torch.float64)\n",
    "    \n",
    "def ToNumpy(tensor):\n",
    "    return tensor.cpu().detach().clone().numpy()\n",
    "\n",
    "PI = math.pi"
   ]
  },
  {
   "cell_type": "markdown",
   "metadata": {},
   "source": [
    "# Initialization\n",
    "\n",
    "You can pick any example that has the requested files located in `data/models/`."
   ]
  },
  {
   "cell_type": "code",
   "execution_count": null,
   "metadata": {},
   "outputs": [],
   "source": [
    "modelName = \"dome01\"\n",
    "\n",
    "with open(os.path.join(pathToModels, modelName, \"flat_optimized.p\"), 'rb') as f:\n",
    "# with open(os.path.join(pathToModels, modelName, \"flat_initial.p\"), 'rb') as f:\n",
    "    flatLinkage = pickle.load(f)\n",
    "    \n",
    "with open(os.path.join(pathToModels, modelName, \"deployed_optimized.p\"), 'rb') as f:\n",
    "# with open(os.path.join(pathToModels, modelName, \"deployed_initial.p\"), 'rb') as f:\n",
    "    depLinkage = pickle.load(f)\n",
    "    \n",
    "linkagesGuess = {\n",
    "    \"flat\": flatLinkage,\n",
    "    \"deployed\": depLinkage,\n",
    "}"
   ]
  },
  {
   "cell_type": "code",
   "execution_count": null,
   "metadata": {
    "tags": []
   },
   "outputs": [],
   "source": [
    "with open(os.path.join(pathToModels, modelName, \"cshell_optimized.p\"), 'rb') as f:\n",
    "# with open(os.path.join(pathToModels, modelName, \"cshell_initial.p\"), 'rb') as f:\n",
    "    dictCShell = pickle.load(f)\n",
    "    \n",
    "cshell = CShell(\n",
    "    dictCShell[\"curvesDoF\"], dictCShell[\"nJ\"], dictCShell[\"curves\"], dictCShell[\"curvesFamily\"], dictCShell[\"nCPperRodEdge\"], \n",
    "    dictCShell[\"alphaTar\"], dictCShell[\"mult\"], dictCShell[\"subdivision\"], symmetry=dictCShell[\"symmetry\"],\n",
    "    attractionMesh=dictCShell[\"attractionMesh\"], targetMesh=dictCShell[\"targetMesh\"],\n",
    "    rodMaterial=dictCShell[\"flatLinkage\"].homogenousMaterial(), optimizeAlpha=True, useSAL=True, \n",
    "    linkagesGuess=linkagesGuess, flatOnly=False,\n",
    ")"
   ]
  },
  {
   "cell_type": "code",
   "execution_count": null,
   "metadata": {},
   "outputs": [],
   "source": [
    "cshell.flatView.show()"
   ]
  },
  {
   "cell_type": "code",
   "execution_count": null,
   "metadata": {},
   "outputs": [],
   "source": [
    "cshell.deployedView.show()"
   ]
  },
  {
   "cell_type": "code",
   "execution_count": null,
   "metadata": {},
   "outputs": [],
   "source": [
    "# with open(\"cshell_initial.p\", 'wb') as f:\n",
    "#     pickle.dump(cshell.GetCShellParams(), f)\n",
    "\n",
    "# with open(\"flat_initial.p\", 'wb') as f:\n",
    "#     pickle.dump(cshell.flatLinkage, f)\n",
    "    \n",
    "# with open(\"deployed_initial.p\", 'wb') as f:\n",
    "#     pickle.dump(cshell.deployedLinkage, f)"
   ]
  },
  {
   "cell_type": "markdown",
   "metadata": {},
   "source": [
    "# Deployment\n",
    "\n",
    "Although the model has already been deployed in the saved file, we show how one can redeploy the model."
   ]
  },
  {
   "cell_type": "code",
   "execution_count": null,
   "metadata": {},
   "outputs": [],
   "source": [
    "numOpeningSteps = 30\n",
    "maxNewtonIterIntermediate = 500 # maximum number of equilibrium steps taken per opening step"
   ]
  },
  {
   "cell_type": "markdown",
   "metadata": {},
   "source": [
    "## As an average angle linkage\n",
    "\n",
    "First, we copy the flat linkage, which we call `depLink` since it will be deployed later. The linkage is set as an `AverageAngleLinkage` and has 6 degrees of freedom removed to discard rigid transformations during deployment. We pick the most central joint to speed up each intermediate equilibrium step during deployment."
   ]
  },
  {
   "cell_type": "code",
   "execution_count": null,
   "metadata": {},
   "outputs": [],
   "source": [
    "depLink = average_angle_linkages.AverageAngleLinkage(cshell.flatLinkage)\n",
    "driver = cshell.flatLinkage.centralJoint()\n",
    "jdo = cshell.flatLinkage.dofOffsetForJoint(driver)\n",
    "fixedVars = list(range(jdo, jdo + 6))\n",
    "depView = LinkageViewer(depLink, width=768, height=480)\n",
    "\n",
    "depView.show()"
   ]
  },
  {
   "cell_type": "markdown",
   "metadata": {},
   "source": [
    "Then, we define the optimizer for the intermediate equilibrium steps during deployment. For sanity check, we run equilibrium in the flat layout. As you can see, the flat layout is already at rest: the beams's rest shape are chosen so that the drawn curves are at rest in the flat state."
   ]
  },
  {
   "cell_type": "code",
   "execution_count": null,
   "metadata": {},
   "outputs": [],
   "source": [
    "newtonOptimizerOptions = py_newton_optimizer.NewtonOptimizerOptions()\n",
    "newtonOptimizerOptions.gradTol = 1.0e-7\n",
    "newtonOptimizerOptions.verbose = 1\n",
    "newtonOptimizerOptions.beta = 1.0e-8\n",
    "newtonOptimizerOptions.niter = 500\n",
    "newtonOptimizerOptions.verboseNonPosDef = False\n",
    "\n",
    "def equilibriumSolver(tgtAngle, l, opts, fv):\n",
    "    opts.gradTol = 1.0e-5\n",
    "    return average_angle_linkages.compute_equilibrium(l, tgtAngle, options=opts, fixedVars=fv)\n",
    "\n",
    "report = average_angle_linkages.compute_equilibrium(\n",
    "    depLink, elastic_rods.TARGET_ANGLE_NONE, options=newtonOptimizerOptions, fixedVars=fixedVars,\n",
    ")"
   ]
  },
  {
   "cell_type": "markdown",
   "metadata": {},
   "source": [
    "The linkage is now incrementally opened by the increment `alphaGap`. You can see the linkage deploying in the viewer above."
   ]
  },
  {
   "cell_type": "code",
   "execution_count": null,
   "metadata": {},
   "outputs": [],
   "source": [
    "alphaGap = cshell.deployedLinkage.getAverageActuatedJointsAngle() - depLink.getAverageActuatedJointsAngle()\n",
    "\n",
    "with so(): \n",
    "    open_average_angle_linkage(\n",
    "        depLink, driver, alphaGap, numOpeningSteps, \n",
    "        depView, equilibriumSolver=equilibriumSolver, \n",
    "        maxNewtonIterationsIntermediate=maxNewtonIterIntermediate\n",
    "    )"
   ]
  },
  {
   "cell_type": "markdown",
   "metadata": {},
   "source": [
    "## As an average angle surface attracted linkage (AASAL)\n",
    "\n",
    "We repeat the steps above, this time specifying the linkage as an `AverageAngleSurfaceAttractedLinkage`."
   ]
  },
  {
   "cell_type": "code",
   "execution_count": null,
   "metadata": {},
   "outputs": [],
   "source": [
    "depLinkAASAL = average_angle_linkages.AverageAngleSurfaceAttractedLinkage(\n",
    "    cshell.attractionMesh[\"V\"], cshell.attractionMesh[\"F\"], \n",
    "    False, cshell.flatLinkage\n",
    ")\n",
    "\n",
    "depLinkAASAL.attraction_weight = 1.0e-5\n",
    "depLinkAASAL.scaleJointWeights(jointPosWeight=0.5)\n",
    "depLinkAASAL.set_holdClosestPointsFixed(False)\n",
    "depLinkAASAL.setTargetSurface(cshell.attractionMesh[\"V\"], cshell.attractionMesh[\"F\"])\n",
    "depLinkAASAL.setTargetJointsPosition(cshell.attractionMesh[\"targetJP\"].reshape(-1,))\n",
    "\n",
    "attractionSurf = mesh.Mesh(*(cshell.attractionMesh[\"V\"], cshell.attractionMesh[\"F\"]))\n",
    "depViewAASAL = LinkageViewerWithSurface(depLinkAASAL, attractionSurf, wireframeSurf=False, transparent=True, width=768, height=480)\n",
    "\n",
    "depViewAASAL.show()"
   ]
  },
  {
   "cell_type": "markdown",
   "metadata": {},
   "source": [
    "Running the initial equilibrium solve does align the target surface and the linkage. Note that there are no `fixedVars` needed this time since rigid transformation are ruled out thanks to the attraction surface."
   ]
  },
  {
   "cell_type": "code",
   "execution_count": null,
   "metadata": {
    "tags": []
   },
   "outputs": [],
   "source": [
    "newtonOptimizerOptions = py_newton_optimizer.NewtonOptimizerOptions()\n",
    "newtonOptimizerOptions.gradTol = 1.0e-7\n",
    "newtonOptimizerOptions.verbose = 1\n",
    "newtonOptimizerOptions.beta = 1.0e-8\n",
    "newtonOptimizerOptions.niter = 500\n",
    "newtonOptimizerOptions.verboseNonPosDef = False\n",
    "\n",
    "def equilibriumSolver(tgtAngle, l, opts, fv):\n",
    "    opts.gradTol = 1.0e-5\n",
    "    return average_angle_linkages.compute_equilibrium(l, tgtAngle, options=opts, fixedVars=fv)\n",
    "\n",
    "with so():\n",
    "    report = average_angle_linkages.compute_equilibrium(\n",
    "        depLinkAASAL, elastic_rods.TARGET_ANGLE_NONE, options=newtonOptimizerOptions, fixedVars=[],\n",
    "    )\n",
    "\n",
    "depViewAASAL.update()"
   ]
  },
  {
   "cell_type": "markdown",
   "metadata": {},
   "source": [
    "And the final deployment using the target surface as reference."
   ]
  },
  {
   "cell_type": "code",
   "execution_count": null,
   "metadata": {},
   "outputs": [],
   "source": [
    "alphaGap = cshell.deployedLinkage.getAverageActuatedJointsAngle() - depLinkAASAL.getAverageActuatedJointsAngle()\n",
    "\n",
    "with so(): \n",
    "    open_average_angle_linkage(\n",
    "        depLinkAASAL, driver, alphaGap, numOpeningSteps, \n",
    "        depViewAASAL, equilibriumSolver=equilibriumSolver, \n",
    "        maxNewtonIterationsIntermediate=maxNewtonIterIntermediate\n",
    "    )"
   ]
  },
  {
   "cell_type": "code",
   "execution_count": null,
   "metadata": {},
   "outputs": [],
   "source": []
  }
 ],
 "metadata": {
  "interpreter": {
   "hash": "532253dd1d492a531a4a0e9f5a112e3e98e55d99579588313b14d9cd640c91ba"
  },
  "kernelspec": {
   "display_name": "Python 3 (ipykernel)",
   "language": "python",
   "name": "python3"
  },
  "language_info": {
   "codemirror_mode": {
    "name": "ipython",
    "version": 3
   },
   "file_extension": ".py",
   "mimetype": "text/x-python",
   "name": "python",
   "nbconvert_exporter": "python",
   "pygments_lexer": "ipython3",
   "version": "3.8.16"
  }
 },
 "nbformat": 4,
 "nbformat_minor": 4
}
