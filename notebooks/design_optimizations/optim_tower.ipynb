{
 "cells": [
  {
   "cell_type": "code",
   "execution_count": null,
   "metadata": {},
   "outputs": [],
   "source": [
    "import sys as _sys\n",
    "import os\n",
    "\n",
    "currentPath = os.path.abspath(os.getcwd())\n",
    "\n",
    "split = currentPath.split(\"Cshells\")\n",
    "if len(split)<2:\n",
    "    print(\"Please rename the repository 'Cshells'\")\n",
    "    raise ValueError\n",
    "pathToPythonScripts = os.path.join(split[0], \"Cshells/python/\")\n",
    "pathToModels = os.path.join(split[0], \"Cshells/data/models\")\n",
    "pathToOutputs = os.path.join(split[0], \"Cshells/output\")\n",
    "\n",
    "_sys.path.insert(0, pathToPythonScripts)"
   ]
  },
  {
   "cell_type": "code",
   "execution_count": null,
   "metadata": {},
   "outputs": [],
   "source": [
    "import MeshFEM\n",
    "import ElasticRods\n",
    "\n",
    "import average_angle_linkages\n",
    "from bending_validation import suppress_stdout as so\n",
    "import elastic_rods\n",
    "import math\n",
    "import numpy as np\n",
    "import pickle\n",
    "import torch\n",
    "\n",
    "from CShell import CShell\n",
    "from CurvesDoFOptimizer import CurvesDoFOptimizer\n",
    "from InteropGH import Interop\n",
    "from open_average_angle_linkage import open_average_angle_linkage\n",
    "import py_newton_optimizer\n",
    "from vis.fields import ScalarField\n",
    "from VisUtils import ConvergencePlotsVisualizer, PlotStackedConvergencePlots\n",
    "\n",
    "torch.set_default_dtype(torch.float64)\n",
    "    \n",
    "def ToNumpy(tensor):\n",
    "    return tensor.cpu().detach().clone().numpy()\n",
    "\n",
    "PI = math.pi"
   ]
  },
  {
   "cell_type": "markdown",
   "metadata": {},
   "source": [
    "# Initialization"
   ]
  },
  {
   "cell_type": "code",
   "execution_count": null,
   "metadata": {},
   "outputs": [],
   "source": [
    "modelName = \"tower_circ_bnd\"\n",
    "\n",
    "with open(os.path.join(pathToModels, modelName, \"flat_initial.p\"), 'rb') as f:\n",
    "    flatLinkage = pickle.load(f)\n",
    "    \n",
    "with open(os.path.join(pathToModels, modelName, \"deployed_initial.p\"), 'rb') as f:\n",
    "    depLinkage = pickle.load(f)\n",
    "    \n",
    "linkagesGuess = {\n",
    "    \"flat\": flatLinkage,\n",
    "    \"deployed\": depLinkage,\n",
    "}"
   ]
  },
  {
   "cell_type": "code",
   "execution_count": null,
   "metadata": {},
   "outputs": [],
   "source": [
    "with open(os.path.join(pathToModels, modelName, \"cshell_initial.p\"), 'rb') as f:\n",
    "    dictCShell = pickle.load(f)\n",
    "    \n",
    "cshell = CShell(\n",
    "    dictCShell[\"curvesDoF\"], dictCShell[\"nJ\"], dictCShell[\"curves\"], dictCShell[\"curvesFamily\"], dictCShell[\"nCPperRodEdge\"], \n",
    "    dictCShell[\"alphaTar\"], dictCShell[\"mult\"], dictCShell[\"subdivision\"], symmetry=dictCShell[\"symmetry\"],\n",
    "    attractionMesh=dictCShell[\"attractionMesh\"], targetMesh=dictCShell[\"targetMesh\"],\n",
    "    rodMaterial=dictCShell[\"flatLinkage\"].homogenousMaterial(), optimizeAlpha=True, useSAL=True, \n",
    "    linkagesGuess=linkagesGuess, flatOnly=False,\n",
    ")"
   ]
  },
  {
   "cell_type": "code",
   "execution_count": null,
   "metadata": {},
   "outputs": [],
   "source": [
    "cshell.flatView.show()"
   ]
  },
  {
   "cell_type": "code",
   "execution_count": null,
   "metadata": {},
   "outputs": [],
   "source": [
    "cshell.deployedView.show()"
   ]
  },
  {
   "cell_type": "markdown",
   "metadata": {},
   "source": [
    "# Optimize\n"
   ]
  },
  {
   "cell_type": "code",
   "execution_count": null,
   "metadata": {
    "jupyter": {
     "outputs_hidden": true
    },
    "tags": []
   },
   "outputs": [],
   "source": [
    "screenshot = None\n",
    "\n",
    "pathToFolderJSON = os.path.join(pathToOutputs, \"{}/optimization\".format(modelName))\n",
    "if not os.path.exists(pathToFolderJSON):\n",
    "    os.makedirs(pathToFolderJSON)\n",
    "pathToSaveJSON = os.path.join(pathToFolderJSON, modelName + \"_{}_.json\")\n",
    "\n",
    "cshell.linkageOptimizer.scaleJointWeights(jointPosWeight=0.6, featureMultiplier=200.0) # The inner joints are free to slide\n",
    "cshell.linkageOptimizer.setHoldClosestPointsFixed(False)\n",
    "cshell.SetWeights(beta=1.0e6, gamma=0.0, smoothingWeight=1.0e-2, rlRegWeight=0.0, cpRegWeight=5.0e2)\n",
    "\n",
    "cdo = CurvesDoFOptimizer(cshell, \"knitro_lbfgs.opt\", minAngle=None)\n",
    "optDoF, optAlpha = cdo.OptimizeDoF(\n",
    "    numSteps=5000, useCB=True, maxEqSteps=50, computeGradMags=False,\n",
    "    ftol=1.0e-5, ftol_iters=3, visDeviations=True,\n",
    "    saveGeometryPath=pathToSaveJSON, saveGeometryFrequency=3\n",
    ")\n",
    "nIterations = len(cshell.optimizationCallback.iterateData)"
   ]
  },
  {
   "cell_type": "code",
   "execution_count": null,
   "metadata": {},
   "outputs": [],
   "source": [
    "print(\"There has been {} iterations\".format(nIterations))"
   ]
  },
  {
   "cell_type": "code",
   "execution_count": null,
   "metadata": {},
   "outputs": [],
   "source": [
    "cpv = ConvergencePlotsVisualizer(cshell.optimizationCallback)\n",
    "cpv.PlotObjective(os.path.join(pathToFolderJSON, \"optimVals.png\"), \"Convergence plot (objectives)\", plotAll=True, wrtTime=True)\n",
    "cpv.PlotGradMags(os.path.join(pathToFolderJSON, \"optimGradMags.png\"), \"Convergence plot (gradient magnitudes)\", wrtTime=False)"
   ]
  },
  {
   "cell_type": "code",
   "execution_count": null,
   "metadata": {},
   "outputs": [],
   "source": [
    "tsf = cshell.linkageOptimizer.target_surface_fitter\n",
    "l0 = np.linalg.norm(np.max(tsf.V, axis=0) - np.min(tsf.V, axis=0))\n",
    "print(\"Initial target deviation\")\n",
    "for key in cpv.dpsMetric[\"TargetDeviationReport\"][0].keys():\n",
    "    print(\"{}: {:.2f}%\".format(key, cpv.dpsMetric[\"TargetDeviationReport\"][0][key] * 100 / l0))\n",
    "print(\"\\nFinal target deviation\")\n",
    "for key in cpv.dpsMetric[\"TargetDeviationReport\"][-1].keys():\n",
    "    print(\"{}: {:.2f}%\".format(key, cpv.dpsMetric[\"TargetDeviationReport\"][-1][key] * 100 / l0))"
   ]
  },
  {
   "cell_type": "code",
   "execution_count": null,
   "metadata": {},
   "outputs": [],
   "source": [
    "pathToSaveFolder = os.path.join(pathToOutputs, \"torus_symmetric/optimization\")\n",
    "\n",
    "with open(os.path.join(pathToSaveFolder, \"objectivesCShell.p\"), 'wb') as f:\n",
    "    pickle.dump(cpv.dpsObjective, f)\n",
    "\n",
    "with open(os.path.join(pathToSaveFolder, \"metricsCShell.p\"), 'wb') as f:\n",
    "    pickle.dump(cpv.dpsMetric, f)\n",
    "\n",
    "with open(os.path.join(pathToSaveFolder, \"optimizationTimings.p\"), 'wb') as f:\n",
    "    pickle.dump(cpv.cumTimes, f)\n",
    "\n",
    "with open(os.path.join(pathToSaveFolder, \"flat_optimized.p\"), 'wb') as f:\n",
    "    pickle.dump(cshell.flatLinkage, f)\n",
    "\n",
    "with open(os.path.join(pathToSaveFolder, \"deployed_optimized.p\"), 'wb') as f:\n",
    "    pickle.dump(cshell.deployedLinkage, f)\n",
    "\n",
    "with open(os.path.join(pathToSaveFolder, \"cshell_optimized.p\"), 'wb') as f:\n",
    "    pickle.dump(cshell.GetCShellParams(), f)"
   ]
  },
  {
   "cell_type": "markdown",
   "metadata": {},
   "source": [
    "# Produce convergence plots"
   ]
  },
  {
   "cell_type": "code",
   "execution_count": null,
   "metadata": {},
   "outputs": [],
   "source": [
    "with open(os.path.join(pathToSaveFolder, \"objectivesCShell.p\"), 'rb') as f:\n",
    "    dpsObjectives = pickle.load(f)\n",
    "\n",
    "with open(os.path.join(pathToSaveFolder, \"optimizationTimings.p\"), 'rb') as f:\n",
    "    dpsTimes = pickle.load(f)\n",
    "\n",
    "listObjectivesNames = ['ElasticEnergyDeployed', 'TargetFitting', 'RestCurvatureSmoothing', 'LaplacianCP']\n",
    "listObjectivesLabels = ['Elastic energy', 'Target fitting', 'Curvature smoothing', 'Laplacian']\n",
    "\n",
    "listFN = [\n",
    "    os.path.join(pathToSaveFolder, \"cv_plot_nostack.png\"),\n",
    "    os.path.join(pathToSaveFolder, \"cv_plot_no_text.png\")\n",
    "]\n",
    "    \n",
    "listCombos = [\n",
    "    [True, False, False, True],\n",
    "    [False, True, True, False]\n",
    "]\n",
    "\n",
    "for fn, combo in zip(listFN, listCombos):\n",
    "    \n",
    "    PlotStackedConvergencePlots(\n",
    "        dpsObjectives, dpsTimes, listObjectivesNames, listObjectivesLabels, \n",
    "        showText=combo[0], againstTime=False, normalizeWithInit=False,\n",
    "        filename=fn, transparent=True, logscale=True, showGrid=False, removeTicks=combo[1],\n",
    "        preserveLegend=False, removeLegendBox=combo[2], removePlot=combo[3]\n",
    "    )"
   ]
  },
  {
   "cell_type": "code",
   "execution_count": null,
   "metadata": {},
   "outputs": [],
   "source": []
  }
 ],
 "metadata": {
  "interpreter": {
   "hash": "532253dd1d492a531a4a0e9f5a112e3e98e55d99579588313b14d9cd640c91ba"
  },
  "kernelspec": {
   "display_name": "Python 3 (ipykernel)",
   "language": "python",
   "name": "python3"
  },
  "language_info": {
   "codemirror_mode": {
    "name": "ipython",
    "version": 3
   },
   "file_extension": ".py",
   "mimetype": "text/x-python",
   "name": "python",
   "nbconvert_exporter": "python",
   "pygments_lexer": "ipython3",
   "version": "3.8.16"
  }
 },
 "nbformat": 4,
 "nbformat_minor": 4
}
