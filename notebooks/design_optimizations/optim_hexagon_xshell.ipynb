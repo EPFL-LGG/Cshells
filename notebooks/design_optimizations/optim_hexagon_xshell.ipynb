{
 "cells": [
  {
   "cell_type": "code",
   "execution_count": null,
   "metadata": {},
   "outputs": [],
   "source": [
    "import sys as _sys\n",
    "import os\n",
    "\n",
    "currentPath = os.path.abspath(os.getcwd())\n",
    "\n",
    "split = currentPath.split(\"Cshells\")\n",
    "if len(split)<2:\n",
    "    print(\"Please rename the repository 'Cshells'\")\n",
    "    raise ValueError\n",
    "pathToPythonScripts = os.path.join(split[0], \"Cshells/python/\")\n",
    "pathToModels = os.path.join(split[0], \"Cshells/data/models\")\n",
    "pathToOutputs = os.path.join(split[0], \"Cshells/output\")\n",
    "\n",
    "_sys.path.insert(0, pathToPythonScripts)"
   ]
  },
  {
   "cell_type": "code",
   "execution_count": null,
   "metadata": {},
   "outputs": [],
   "source": [
    "import MeshFEM\n",
    "import ElasticRods\n",
    "\n",
    "import average_angle_linkages\n",
    "from bending_validation import suppress_stdout as so\n",
    "import cshell_optimization\n",
    "import elastic_rods\n",
    "from linkage_vis import LinkageViewer, LinkageViewerWithSurface\n",
    "import math\n",
    "import mesh\n",
    "import numpy as np\n",
    "import pickle\n",
    "import torch\n",
    "\n",
    "from CShell import CShell\n",
    "from CurvesDoFOptimizer import CurvesDoFOptimizer\n",
    "from InteropGH import Interop\n",
    "from open_average_angle_linkage import open_average_angle_linkage\n",
    "import py_newton_optimizer\n",
    "from RestQuantitiesOptimizer import RestQuantitiesOptimizer\n",
    "from vis.fields import ScalarField\n",
    "from VisUtils import ConvergencePlotsVisualizer, PlotStackedConvergencePlots\n",
    "\n",
    "torch.set_default_dtype(torch.float64)\n",
    "    \n",
    "def ToNumpy(tensor):\n",
    "    return tensor.cpu().detach().clone().numpy()\n",
    "\n",
    "PI = math.pi"
   ]
  },
  {
   "cell_type": "markdown",
   "metadata": {},
   "source": [
    "# Initialization\n",
    "\n",
    "Get the flat and deployed linkages as `AverageAngleSurfaceAttractedLinkage`."
   ]
  },
  {
   "cell_type": "code",
   "execution_count": null,
   "metadata": {},
   "outputs": [],
   "source": [
    "modelName = \"hexagon_x\"\n",
    "\n",
    "pathToFolderJSON = os.path.join(pathToOutputs, \"{}/optimization\".format(modelName))\n",
    "if not os.path.exists(pathToFolderJSON):\n",
    "    os.makedirs(pathToFolderJSON)\n",
    "\n",
    "with open(os.path.join(pathToModels, modelName, \"flat_initial.p\"), 'rb') as f:\n",
    "    flatLinkage = pickle.load(f)\n",
    "    \n",
    "with open(os.path.join(pathToModels, modelName, \"deployed_initial.p\"), 'rb') as f:\n",
    "    deployedLinkage = pickle.load(f)\n",
    "    \n",
    "with open(os.path.join(pathToModels, modelName, \"attraction_mesh.p\"), 'rb') as f:\n",
    "    attractionMesh = pickle.load(f)\n",
    "    \n",
    "additionalFeatJoints = [10, 91, 51,  9, 31, 70] # Joints on the central Hexagon\n",
    "\n",
    "flatView = LinkageViewer(flatLinkage, width=768, height=480)\n",
    "deployedView   = LinkageViewerWithSurface(\n",
    "    deployedLinkage, mesh.Mesh(*(attractionMesh[\"V\"], attractionMesh[\"F\"])), \n",
    "    wireframeSurf=False, transparent=True, width=768, height=480\n",
    ")"
   ]
  },
  {
   "cell_type": "markdown",
   "metadata": {
    "tags": []
   },
   "source": [
    "# Optimization rounds\n",
    "\n",
    "In the [X-shell](https://julianpanetta.com/publication/xshells/) framework, the optimization pipeline consists in two steps: rest lengths solve and design optimization."
   ]
  },
  {
   "cell_type": "code",
   "execution_count": null,
   "metadata": {},
   "outputs": [],
   "source": [
    "def ApplyWeights(linkageOptimizer, dictWeights):\n",
    "    linkageOptimizer.beta                     = dictWeights[\"beta\"]\n",
    "    linkageOptimizer.gamma                    = dictWeights[\"gamma\"]\n",
    "    linkageOptimizer.smoothing_weight         = dictWeights[\"smoothingWeight\"]\n",
    "    linkageOptimizer.rl_regularization_weight = dictWeights[\"rlRegWeight\"]\n",
    "    linkageOptimizer.invalidateAdjointState()"
   ]
  },
  {
   "cell_type": "code",
   "execution_count": null,
   "metadata": {},
   "outputs": [],
   "source": [
    "newtonOptimizerOptions = py_newton_optimizer.NewtonOptimizerOptions()\n",
    "newtonOptimizerOptions.gradTol = 1.0e-7\n",
    "newtonOptimizerOptions.verbose = 1\n",
    "newtonOptimizerOptions.beta = 1.0e-8\n",
    "newtonOptimizerOptions.niter = 50\n",
    "newtonOptimizerOptions.verboseNonPosDef = False"
   ]
  },
  {
   "cell_type": "markdown",
   "metadata": {},
   "source": [
    "## Rest length solve\n",
    "\n",
    "Keeping the joint positions of the flat layout fixed, we optimize the rest lengths so that the stress is minimized."
   ]
  },
  {
   "cell_type": "code",
   "execution_count": null,
   "metadata": {},
   "outputs": [],
   "source": [
    "additionalFixedFlatVars = flatLinkage.jointPositionDoFIndices()\n",
    "additionalFixedDeployedVars = []\n",
    "\n",
    "loRL = cshell_optimization.AverageAngleCShellOptimizationSAL(\n",
    "    flatLinkage, deployedLinkage, newtonOptimizerOptions, 0.0, \n",
    "    optimizeTargetAngle=True, fixDeployedVars=False,\n",
    "    additionalFixedFlatVars=additionalFixedFlatVars,\n",
    "    additionalFixedDeployedVars=additionalFixedDeployedVars\n",
    ")\n",
    "\n",
    "loRL.setHoldClosestPointsFixed(False)"
   ]
  },
  {
   "cell_type": "code",
   "execution_count": null,
   "metadata": {},
   "outputs": [],
   "source": [
    "flatView.show()"
   ]
  },
  {
   "cell_type": "code",
   "execution_count": null,
   "metadata": {},
   "outputs": [],
   "source": [
    "deployedView.show()"
   ]
  },
  {
   "cell_type": "code",
   "execution_count": null,
   "metadata": {
    "jupyter": {
     "outputs_hidden": true
    },
    "tags": []
   },
   "outputs": [],
   "source": [
    "nSteps = 20\n",
    "trustRegionScale = 1.0\n",
    "optTol = 1.0e-3\n",
    "\n",
    "screenshot = None\n",
    "\n",
    "dictWeightsRL = {\n",
    "    \"beta\": 0.0,\n",
    "    \"gamma\": 1.0,\n",
    "    \"smoothingWeight\": 0.0,\n",
    "    \"rlRegWeight\": 0.0,\n",
    "}\n",
    "\n",
    "ApplyWeights(loRL, dictWeightsRL)\n",
    "\n",
    "height = loRL.getDeployedLinkage().homogenousMaterial().crossSectionHeight\n",
    "width  = loRL.getDeployedLinkage().homogenousMaterial().area / height\n",
    "minRL  = 1.6 * width\n",
    "\n",
    "rqoRL = RestQuantitiesOptimizer(loRL, \"knitro_hvp.opt\", minAngle=None, applyFlatnessConstraint=False, minRL=minRL)\n",
    "optDP_RL, cocbRL = rqoRL.OptimizeDP(\n",
    "    numSteps=nSteps, trustRegionScale=trustRegionScale, optTol=optTol, \n",
    "    useCB=True, maxEqSteps=50, computeGradMags=False, screenshot=screenshot,\n",
    "    flatView=flatView, deployedView=deployedView\n",
    ")\n",
    "nIterationsRL = len(cocbRL.iterateData)"
   ]
  },
  {
   "cell_type": "code",
   "execution_count": null,
   "metadata": {},
   "outputs": [],
   "source": [
    "cpvRL = ConvergencePlotsVisualizer(cocbRL)\n",
    "cpvRL.PlotObjective(os.path.join(pathToFolderJSON, \"optimValsRL.png\"), \"Convergence plot (objectives)\", plotAll=True, wrtTime=True)\n",
    "cpvRL.PlotConstraints(os.path.join(pathToFolderJSON, \"optimConstraintsRL.png\"), \"Convergence plot (constraints)\", wrtTime=True)\n",
    "cpvRL.PlotGradMags(os.path.join(pathToFolderJSON, \"optimGradMagsRL.png\"), \"Convergence plot (gradient magnitudes)\", wrtTime=True)"
   ]
  },
  {
   "cell_type": "markdown",
   "metadata": {},
   "source": [
    "# Design optimization\n",
    "\n",
    "We now optimize the flat and deployed state jointly."
   ]
  },
  {
   "cell_type": "code",
   "execution_count": null,
   "metadata": {
    "tags": []
   },
   "outputs": [],
   "source": [
    "additionalFixedFlatVars = []\n",
    "additionalFixedDeployedVars = []\n",
    "\n",
    "loDO = cshell_optimization.AverageAngleCShellOptimizationSAL(\n",
    "    flatLinkage, deployedLinkage, newtonOptimizerOptions, 0.0, \n",
    "    optimizeTargetAngle=True, fixDeployedVars=False,\n",
    "    additionalFixedFlatVars=additionalFixedFlatVars,\n",
    "    additionalFixedDeployedVars=additionalFixedDeployedVars,\n",
    ")\n",
    "\n",
    "loDO.setHoldClosestPointsFixed(False)\n",
    "loDO.setTargetSurface(attractionMesh[\"V\"], attractionMesh[\"F\"])\n",
    "loDO.scaleJointWeights(jointPosWeight=0.1)\n",
    "loDO.setTargetJointsPosition(attractionMesh[\"targetJP\"].reshape(-1,))\n"
   ]
  },
  {
   "cell_type": "code",
   "execution_count": null,
   "metadata": {},
   "outputs": [],
   "source": [
    "flatView.show()"
   ]
  },
  {
   "cell_type": "code",
   "execution_count": null,
   "metadata": {},
   "outputs": [],
   "source": [
    "deployedView.show()"
   ]
  },
  {
   "cell_type": "markdown",
   "metadata": {},
   "source": [
    "### No flatness\n",
    "\n",
    "As opposed to the original paper, we decide not to enforce the flatness constraint in the flat state in a first optimization round. In this way, the energy can be reduced in both the flat and deployed state in a gentle way. Flatness is enforced in a second step."
   ]
  },
  {
   "cell_type": "code",
   "execution_count": null,
   "metadata": {
    "jupyter": {
     "outputs_hidden": true
    },
    "tags": []
   },
   "outputs": [],
   "source": [
    "nSteps = 200\n",
    "trustRegionScale = 1.0\n",
    "optTol = 1.0e-3\n",
    "\n",
    "screenshot = None\n",
    "\n",
    "dictWeights = {\n",
    "    \"beta\": 4.0e5,\n",
    "    \"gamma\": 0.9,\n",
    "    \"smoothingWeight\": 0.0,\n",
    "    \"rlRegWeight\": 0.0,\n",
    "}\n",
    "\n",
    "ApplyWeights(loDO, dictWeights)\n",
    "loDO.scaleJointWeights(\n",
    "    jointPosWeight=0.1, featureMultiplier=10.0, \n",
    "    additional_feature_pts=additionalFeatJoints,\n",
    ")\n",
    "loDO.setHoldClosestPointsFixed(False)\n",
    "rqo1 = RestQuantitiesOptimizer(loDO, \"knitro_hvp.opt\", minAngle=np.pi/16, applyFlatnessConstraint=False, minRL=minRL)\n",
    "optDP, cocb1 = rqo1.OptimizeDP(\n",
    "    numSteps=nSteps, trustRegionScale=trustRegionScale, optTol=optTol, \n",
    "    useCB=True, maxEqSteps=50, computeGradMags=False, screenshot=screenshot,\n",
    "    flatView=flatView, deployedView=deployedView, honorbounds=0\n",
    ")\n",
    "nIterations1 = len(cocb1.iterateData)"
   ]
  },
  {
   "cell_type": "code",
   "execution_count": null,
   "metadata": {},
   "outputs": [],
   "source": [
    "assert False"
   ]
  },
  {
   "cell_type": "markdown",
   "metadata": {},
   "source": [
    "### Apply flatness\n",
    "\n",
    "Now that the linkage has lower energy in its flat state, we attempt to apply the flatness constraint."
   ]
  },
  {
   "cell_type": "code",
   "execution_count": null,
   "metadata": {
    "tags": []
   },
   "outputs": [],
   "source": [
    "nSteps = 1000\n",
    "trustRegionScale = 1.0\n",
    "optTol = 1.0e-3\n",
    "\n",
    "screenshot = None\n",
    "\n",
    "dictWeights = {\n",
    "    \"beta\": 4.0e5,\n",
    "    \"gamma\": 0.9,\n",
    "    \"smoothingWeight\": 0.0,\n",
    "    \"rlRegWeight\": 0.0,\n",
    "}\n",
    "\n",
    "ApplyWeights(loDO, dictWeights)\n",
    "loDO.scaleJointWeights(\n",
    "    jointPosWeight=0.1, featureMultiplier=10.0, \n",
    "    additional_feature_pts=additionalFeatJoints,\n",
    ")\n",
    "loDO.setHoldClosestPointsFixed(False)\n",
    "rqo2 = RestQuantitiesOptimizer(loDO, \"knitro_hvp.opt\", minAngle=np.pi/16, applyFlatnessConstraint=True, minRL=minRL)\n",
    "optDP, cocb2 = rqo2.OptimizeDP(\n",
    "    numSteps=nSteps, trustRegionScale=trustRegionScale, optTol=optTol, \n",
    "    useCB=True, maxEqSteps=50, computeGradMags=False, screenshot=screenshot,\n",
    "    flatView=flatView, deployedView=deployedView, honorbounds=0\n",
    ")\n",
    "nIterations2 = len(cocb2.iterateData)"
   ]
  },
  {
   "cell_type": "code",
   "execution_count": null,
   "metadata": {},
   "outputs": [],
   "source": [
    "nIterations = nIterations1 + nIterations2\n",
    "print(\"There has been {} iterations\".format(nIterations))"
   ]
  },
  {
   "cell_type": "code",
   "execution_count": null,
   "metadata": {},
   "outputs": [],
   "source": [
    "assert False"
   ]
  },
  {
   "cell_type": "code",
   "execution_count": null,
   "metadata": {},
   "outputs": [],
   "source": [
    "cpv = ConvergencePlotsVisualizer(cocb1)\n",
    "# cpv = ConvergencePlotsVisualizer(cocb2)\n",
    "cpv.PlotObjective(os.path.join(pathToFolderJSON, \"optimVals.png\"), \"Convergence plot (objectives)\", plotAll=True, wrtTime=True)\n",
    "cpv.PlotConstraints(os.path.join(pathToFolderJSON, \"optimConstraints.png\"), \"Convergence plot (constraints)\", wrtTime=True)\n",
    "cpv.PlotGradMags(os.path.join(pathToFolderJSON, \"optimGradMags.png\"), \"Convergence plot (gradient magnitudes)\", wrtTime=True)"
   ]
  },
  {
   "cell_type": "code",
   "execution_count": null,
   "metadata": {},
   "outputs": [],
   "source": [
    "tsf = linkageOptimizer.target_surface_fitter\n",
    "l0 = np.linalg.norm(np.max(tsf.V, axis=0) - np.min(tsf.V, axis=0))\n",
    "print(\"Initial target deviation\")\n",
    "for key in cpv.dpsMetric[\"TargetDeviationReport\"][0].keys():\n",
    "    print(\"{}: {:.2f}%\".format(key, cpv.dpsMetric[\"TargetDeviationReport\"][0][key] * 100 / l0))\n",
    "print(\"\\nFinal target deviation\")\n",
    "for key in cpv.dpsMetric[\"TargetDeviationReport\"][-1].keys():\n",
    "    print(\"{}: {:.2f}%\".format(key, cpv.dpsMetric[\"TargetDeviationReport\"][-1][key] * 100 / l0))"
   ]
  },
  {
   "cell_type": "code",
   "execution_count": null,
   "metadata": {},
   "outputs": [],
   "source": [
    "pathToSaveFolder = os.path.join(pathToOutputs, model_name, \"/optimization\")\n",
    "\n",
    "with open(os.path.join(pathToSaveFolder, \"flat_optimized.p\"), 'wb') as f:\n",
    "    pickle.dump(flatLinkage, f)\n",
    "\n",
    "with open(os.path.join(pathToSaveFolder, \"deployed_optimized.p\"), 'wb') as f:\n",
    "    pickle.dump(deployedLinkage, f)\n"
   ]
  },
  {
   "cell_type": "code",
   "execution_count": null,
   "metadata": {},
   "outputs": [],
   "source": []
  }
 ],
 "metadata": {
  "interpreter": {
   "hash": "532253dd1d492a531a4a0e9f5a112e3e98e55d99579588313b14d9cd640c91ba"
  },
  "kernelspec": {
   "display_name": "Python 3 (ipykernel)",
   "language": "python",
   "name": "python3"
  },
  "language_info": {
   "codemirror_mode": {
    "name": "ipython",
    "version": 3
   },
   "file_extension": ".py",
   "mimetype": "text/x-python",
   "name": "python",
   "nbconvert_exporter": "python",
   "pygments_lexer": "ipython3",
   "version": "3.8.16"
  }
 },
 "nbformat": 4,
 "nbformat_minor": 4
}
