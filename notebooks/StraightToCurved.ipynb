{
 "cells": [
  {
   "cell_type": "code",
   "execution_count": 1,
   "metadata": {},
   "outputs": [],
   "source": [
    "import sys as _sys\n",
    "import os\n",
    "\n",
    "currentPath = os.path.abspath(os.getcwd())\n",
    "\n",
    "split = currentPath.split(\"CShells\")\n",
    "if len(split)<2:\n",
    "    print(\"Please rename the repository 'CShells'\")\n",
    "    raise ValueError\n",
    "pathToPythonScripts = split[0] + \"CShells/python/\"\n",
    "pathToCubicSplines  = split[0] + \"CShells/ext/torchcubicspline/\"\n",
    "\n",
    "_sys.path.insert(0, pathToPythonScripts)\n",
    "_sys.path.insert(0, pathToCubicSplines)"
   ]
  },
  {
   "cell_type": "code",
   "execution_count": 2,
   "metadata": {},
   "outputs": [],
   "source": [
    "import MeshFEM\n",
    "import ElasticRods\n",
    "\n",
    "import average_angle_linkages\n",
    "from bending_validation import suppress_stdout as so\n",
    "import elastic_rods\n",
    "import json\n",
    "from linkage_vis import LinkageViewer\n",
    "import math\n",
    "import matplotlib.pyplot as plt\n",
    "import numpy as np\n",
    "from scipy.interpolate import CubicSpline\n",
    "from scipy.interpolate import interp1d\n",
    "import torch\n",
    "\n",
    "from CShell import CShell, GetEdgesFromCurves\n",
    "from CShellToJSON import ExtractQuantitiesPerSegment\n",
    "from LinkageTopologies import RegularTopology\n",
    "from open_average_angle_linkage import open_average_angle_linkage\n",
    "import py_newton_optimizer\n",
    "\n",
    "torch.set_default_dtype(torch.float64)\n",
    "    \n",
    "def ToNumpy(tensor):\n",
    "    return tensor.cpu().detach().clone().numpy()\n",
    "\n",
    "PI = math.pi"
   ]
  },
  {
   "cell_type": "markdown",
   "metadata": {},
   "source": [
    "# Define a compatible linkage"
   ]
  },
  {
   "cell_type": "code",
   "execution_count": 3,
   "metadata": {},
   "outputs": [],
   "source": [
    "\n",
    "\n",
    "nJa  = 3 # Number of joints for the first family of joints\n",
    "nJb  = 2  # Number of joints for the second family of joints\n",
    "\n",
    "nJ, curves, curvesFamily = RegularTopology(nJa, nJb)\n",
    "\n",
    "lengthX   = 10.0\n",
    "lengthY   = 7.0\n",
    "\n",
    "xPos = torch.tile(torch.linspace(0, lengthX, nJa), (nJb,))\n",
    "yPos = torch.repeat_interleave(torch.linspace(0, lengthY, nJb), nJa, dim=0)\n",
    "\n",
    "xOffset = 0.5\n",
    "yOffset = 0.8\n",
    "xPos   += xOffset * torch.tensor([0.0, -1.0, 0.0, 0.0, 1.0, 0.0])\n",
    "yPos   += yOffset * torch.tensor([1.0, 0.0, 1.0, -1.0, 0.0, -1.0])\n",
    "\n",
    "joints = torch.zeros(size=(nJ, 3))\n",
    "joints[:, 0] = xPos\n",
    "joints[:, 1] = yPos\n",
    "\n",
    "rodEdges, rodEdgeToCurve = GetEdgesFromCurves(curves)"
   ]
  },
  {
   "cell_type": "code",
   "execution_count": 6,
   "metadata": {},
   "outputs": [
    {
     "data": {
      "image/png": "[encoded data removed]",
      "text/plain": [
       "<Figure size 432x288 with 1 Axes>"
      ]
     },
     "metadata": {
      "needs_background": "light"
     },
     "output_type": "display_data"
    }
   ],
   "source": [
    "for (crv, fam) in zip(curves, curvesFamily):\n",
    "    if fam==0:\n",
    "        plt.plot(joints[crv, 0], joints[crv, 1], c='b')\n",
    "    else:\n",
    "        plt.plot(joints[crv, 0], joints[crv, 1], c='r')\n",
    "plt.scatter(joints[:, 0], joints[:, 1], c='k')\n",
    "plt.axis('equal')\n",
    "plt.show()"
   ]
  },
  {
   "cell_type": "code",
   "execution_count": 29,
   "metadata": {},
   "outputs": [],
   "source": [
    "jointsPosition = ToNumpy(joints)\n",
    "rodMaterial    = elastic_rods.RodMaterial('rectangle', 2000, 0.3, [0.60, 0.30])\n",
    "\n",
    "# For the discretization\n",
    "subdivision = 10\n",
    "\n",
    "flatLinkageComp = elastic_rods.RodLinkage(jointsPosition, rodEdges,\n",
    "                                          rod_interleaving_type=elastic_rods.InterleavingType.xshell, subdivision=subdivision)\n",
    "flatLinkageComp = average_angle_linkages.AverageAngleLinkage(flatLinkageComp)\n",
    "\n",
    "driver = flatLinkageComp.centralJoint()\n",
    "flatLinkageComp.setMaterial(rodMaterial)\n",
    "flatLinkageComp.set_design_parameter_config(True, True, True) # Keep length, remove rest curvature, and update the design parameters\n",
    "\n",
    "jdo       = flatLinkageComp.dofOffsetForJoint(driver)\n",
    "fixedVars = list(range(jdo, jdo + 6)) # fix rigid motion for a single joint\n",
    "with so(): elastic_rods.compute_equilibrium(flatLinkageComp, fixedVars=fixedVars)\n",
    "\n",
    "flatViewComp = LinkageViewer(flatLinkageComp, width=1024, height=640)"
   ]
  },
  {
   "cell_type": "code",
   "execution_count": 30,
   "metadata": {},
   "outputs": [
    {
     "data": {
      "application/vnd.jupyter.widget-view+json": {
       "model_id": "9061702668f04d79bd0ea29051019a8e",
       "version_major": 2,
       "version_minor": 0
      },
      "text/plain": [
       "Renderer(camera=PerspectiveCamera(aspect=1.6, children=(PointLight(color='#999999', position=(0.0, 0.0, 5.0), …"
      ]
     },
     "metadata": {},
     "output_type": "display_data"
    }
   ],
   "source": [
    "flatViewComp.show()"
   ]
  },
  {
   "cell_type": "code",
   "execution_count": 31,
   "metadata": {},
   "outputs": [
    {
     "data": {
      "application/vnd.jupyter.widget-view+json": {
       "model_id": "6d90e3cfebf34bb58a502f52586bcd2a",
       "version_major": 2,
       "version_minor": 0
      },
      "text/plain": [
       "Renderer(camera=PerspectiveCamera(aspect=1.6, children=(PointLight(color='#999999', position=(0.0, 0.0, 5.0), …"
      ]
     },
     "metadata": {},
     "output_type": "display_data"
    }
   ],
   "source": [
    "deployedLinkageComp = average_angle_linkages.AverageAngleLinkage(flatLinkageComp)\n",
    "deployedViewComp    = LinkageViewer(deployedLinkageComp, width=1024, height=640)\n",
    "\n",
    "def equilibriumSolver(tgtAngle, l, opts, fv):\n",
    "    opts.gradTol = 1.0e-4\n",
    "    return average_angle_linkages.compute_equilibrium(l, tgtAngle, options=opts, fixedVars=fv)\n",
    "\n",
    "deployedViewComp.show()"
   ]
  },
  {
   "cell_type": "code",
   "execution_count": 32,
   "metadata": {},
   "outputs": [],
   "source": [
    "alphaTar        = np.deg2rad(155)\n",
    "numOpeningSteps = 40\n",
    "maxNewtonIterIntermediate = 20\n",
    "\n",
    "with so(): open_average_angle_linkage(deployedLinkageComp, driver, alphaTar - deployedLinkageComp.averageJointAngle, numOpeningSteps, \n",
    "                                      deployedViewComp, equilibriumSolver=equilibriumSolver, \n",
    "                                      maxNewtonIterationsIntermediate=maxNewtonIterIntermediate)"
   ]
  },
  {
   "cell_type": "markdown",
   "metadata": {},
   "source": [
    "# Define a C-shell"
   ]
  },
  {
   "cell_type": "code",
   "execution_count": 33,
   "metadata": {},
   "outputs": [
    {
     "name": "stdout",
     "output_type": "stream",
     "text": [
      "Flat equilibrium solve\n",
      "0\t1.44297e-19\t5.00246e-09\t5.00246e-09\t0\t0\n",
      "Deployed equilibrium solve\n",
      "Initial energy (deployed) 0.800306\n",
      "Has constraints: 0\n",
      "0\t0.800306\t4.83173e-07\t4.83173e-07\t1\t0\n",
      "1\t0.800306\t7.09482e-12\t7.09482e-12\t1\t0\n",
      "Final energy (deployed) 0.800306\n",
      "Flat equilibrium solve\n",
      "0\t1.44297e-19\t5.00246e-09\t5.00246e-09\t0\t0\n",
      "Deployed equilibrium solve\n",
      "Initial energy (deployed) 0.800306\n",
      "Has constraints: 0\n",
      "0\t0.800306\t6.7849e-12\t6.7849e-12\t0\t0\n",
      "Final energy (deployed) 0.800306\n",
      "Saved 109 vertices and 192 triangles\n",
      "Saved 109 vertices and 192 triangles\n",
      "Flat equilibrium solve\n",
      "0\t1.44271e-19\t5.00313e-09\t5.00313e-09\t0\t0\n",
      "Deployed equilibrium solve\n",
      "Initial energy (deployed) 1.00312\n",
      "Has constraints: 0\n",
      "0\t1.00312\t2.82036e-08\t2.82036e-08\t0\t0\n",
      "Final energy (deployed) 1.00312\n",
      "Flat equilibrium solve\n",
      "0\t1.44271e-19\t5.00313e-09\t5.00313e-09\t0\t0\n",
      "Deployed equilibrium solve\n",
      "Initial energy (deployed) 1.00312\n",
      "Has constraints: 0\n",
      "0\t1.00312\t2.82036e-08\t2.82036e-08\t0\t0\n",
      "Final energy (deployed) 1.00312\n",
      "Saved 109 vertices and 192 triangles\n",
      "Saved 109 vertices and 192 triangles\n"
     ]
    }
   ],
   "source": [
    "mult = 5\n",
    "subdivision = 10\n",
    "\n",
    "nCPperRodEdge = [(len(crv) - 1) * [1] for crv in curves]\n",
    "totNCP = sum([sum(el) for el in nCPperRodEdge])\n",
    "curvesDoF = torch.zeros(size=(2 * nJ + totNCP,))\n",
    "curvesDoF[:2*nJ]  = torch.tensor(flatLinkageComp.jointPositions().reshape(-1, 3)[:, :2].reshape(-1,))\n",
    "curvesDoF[2*nJ] = -0.15\n",
    "curvesDoF[2*nJ+1] = -0.15\n",
    "curvesDoF[2*nJ+2] = 0.15\n",
    "curvesDoF[2*nJ+3] = 0.15\n",
    "\n",
    "cshell = CShell(\n",
    "    curvesDoF, nJ, curves, curvesFamily, nCPperRodEdge, alphaTar, mult, subdivision, \n",
    "    rodMaterial=rodMaterial, pathSurf=None, newtonOptimizerOptions=None, optimizeAlpha=True, \n",
    "    useSAL=False, attractionMesh=None, targetMesh=None,\n",
    "    dictWeights=None, linkagesGuess=None,\n",
    "    numOpeningSteps=40, maxNewtonIterIntermediate=20, flatOnly=False\n",
    ")\n",
    "\n",
    "deltaAlpha = cshell.flatLinkage.averageJointAngle - flatLinkageComp.averageJointAngle\n",
    "deltaAlpha = 0.3\n",
    "\n",
    "alphaTarCshell = cshell.alphaTar + 0.1\n",
    "\n",
    "cshell = CShell(\n",
    "    curvesDoF, nJ, curves, curvesFamily, nCPperRodEdge, alphaTarCshell, mult, subdivision, \n",
    "    rodMaterial=rodMaterial, pathSurf=None, newtonOptimizerOptions=None, optimizeAlpha=True, \n",
    "    useSAL=False, attractionMesh=None, targetMesh=None,\n",
    "    dictWeights=None, linkagesGuess=None,\n",
    "    numOpeningSteps=40, maxNewtonIterIntermediate=20, flatOnly=False\n",
    ")"
   ]
  },
  {
   "cell_type": "code",
   "execution_count": 35,
   "metadata": {},
   "outputs": [
    {
     "data": {
      "image/png": "[encoded data removed]",
      "text/plain": [
       "<Figure size 720x720 with 1 Axes>"
      ]
     },
     "metadata": {
      "needs_background": "light"
     },
     "output_type": "display_data"
    }
   ],
   "source": [
    "cshell.PlotCurveLinkage()"
   ]
  },
  {
   "cell_type": "code",
   "execution_count": 36,
   "metadata": {},
   "outputs": [
    {
     "data": {
      "application/vnd.jupyter.widget-view+json": {
       "model_id": "cd1e3280d33d4a41a8192df6474f762f",
       "version_major": 2,
       "version_minor": 0
      },
      "text/plain": [
       "Renderer(camera=PerspectiveCamera(aspect=1.6, children=(PointLight(color='#999999', position=(0.0, 0.0, 5.0), …"
      ]
     },
     "metadata": {},
     "output_type": "display_data"
    }
   ],
   "source": [
    "cshell.deployedView.show()"
   ]
  },
  {
   "cell_type": "markdown",
   "metadata": {},
   "source": [
    "# Interpolate the rest quantities"
   ]
  },
  {
   "cell_type": "code",
   "execution_count": 39,
   "metadata": {},
   "outputs": [
    {
     "data": {
      "text/plain": [
       "[<matplotlib.lines.Line2D at 0x7f1892a1f410>]"
      ]
     },
     "execution_count": 39,
     "metadata": {},
     "output_type": "execute_result"
    },
    {
     "data": {
      "image/png": "[encoded data removed]",
      "text/plain": [
       "<Figure size 432x288 with 1 Axes>"
      ]
     },
     "metadata": {
      "needs_background": "light"
     },
     "output_type": "display_data"
    }
   ],
   "source": [
    "pathToSaveJSON = \"../../output/straight_to_curved/interpolated_models/\"\n",
    "\n",
    "n_inter_frames = 13\n",
    "n_jsons = 2\n",
    "\n",
    "knots = np.linspace(0.0, 1.0, n_jsons)\n",
    "n_steps = n_inter_frames * (n_jsons - 1) + n_jsons\n",
    "ts = np.linspace(0.0, 1.0, n_steps)\n",
    "\n",
    "interp_type_smooth = lambda x, y: CubicSpline(x, y, axis=0)\n",
    "interp_type_lin = lambda x, y: interp1d(x, y, kind='linear', axis=0)\n",
    "\n",
    "restQuantities = np.stack([flatLinkageComp.getDesignParameters(), cshell.flatLinkage.getDesignParameters()], axis=0)\n",
    "alphas = np.stack([deployedLinkageComp.averageJointAngle, cshell.deployedLinkage.averageJointAngle], axis=0)\n",
    "\n",
    "spline_rq = interp_type_smooth(knots, np.stack(restQuantities, axis=0))\n",
    "spline_alp = interp_type_smooth(knots, np.stack(alphas, axis=0))\n",
    "\n",
    "plt.plot(spline_alp(np.linspace(0.0, 1.0)))"
   ]
  },
  {
   "cell_type": "markdown",
   "metadata": {},
   "source": [
    "# Compute the flat/deployed states and save"
   ]
  },
  {
   "cell_type": "code",
   "execution_count": 45,
   "metadata": {},
   "outputs": [
    {
     "name": "stdout",
     "output_type": "stream",
     "text": [
      "\n",
      " FILE 1 OUT OF 15\n",
      "\n",
      "1.4427097265750243e-19\n",
      "1.00311836308944\n",
      "\n",
      " FILE 2 OUT OF 15\n",
      "\n",
      "0.0011223053610383902\n",
      "1.0187821152775898\n",
      "\n",
      " FILE 3 OUT OF 15\n",
      "\n",
      "0.004491648341868473\n",
      "1.0346332403182297\n",
      "\n",
      " FILE 4 OUT OF 15\n",
      "\n",
      "0.010103185141983394\n",
      "1.0506639190484044\n",
      "\n",
      " FILE 5 OUT OF 15\n",
      "\n",
      "0.01795026930092203\n",
      "1.0668664541927209\n",
      "\n",
      " FILE 6 OUT OF 15\n",
      "\n",
      "0.028023877258740323\n",
      "1.0832332707253778\n",
      "\n",
      " FILE 7 OUT OF 15\n",
      "\n",
      "0.04031174519778103\n",
      "1.099756915923476\n",
      "\n",
      " FILE 8 OUT OF 15\n",
      "\n",
      "0.05479706329778707\n",
      "1.116430059166604\n",
      "\n",
      " FILE 9 OUT OF 15\n",
      "\n",
      "0.07145647832687425\n",
      "1.1332454915293837\n",
      "\n",
      " FILE 10 OUT OF 15\n",
      "\n",
      "0.09025701220293311\n",
      "1.1501961252063138\n",
      "\n",
      " FILE 11 OUT OF 15\n",
      "\n",
      "0.11115131213538405\n",
      "1.1672749928020998\n",
      "\n",
      " FILE 12 OUT OF 15\n",
      "\n",
      "0.13407048578723363\n",
      "1.1844752465148638\n",
      "\n",
      " FILE 13 OUT OF 15\n",
      "\n",
      "0.1589139739704519\n",
      "1.2017901572351462\n",
      "\n",
      " FILE 14 OUT OF 15\n",
      "\n",
      "0.18553734588682788\n",
      "1.2192131135793143\n",
      "\n",
      " FILE 15 OUT OF 15\n",
      "\n",
      "0.21374272693270657\n",
      "1.2367376208727632\n"
     ]
    }
   ],
   "source": [
    "flatLinkageTmp = average_angle_linkages.AverageAngleLinkage(cshell.flatLinkage)\n",
    "deployedLinkageTmp = average_angle_linkages.AverageAngleLinkage(cshell.deployedLinkage)\n",
    "\n",
    "newtonOptimizerOptions = py_newton_optimizer.NewtonOptimizerOptions()\n",
    "newtonOptimizerOptions.gradTol = 1.0e-7\n",
    "newtonOptimizerOptions.verbose = 1\n",
    "newtonOptimizerOptions.beta = 1.0e-8\n",
    "newtonOptimizerOptions.niter = 1000\n",
    "newtonOptimizerOptions.verboseNonPosDef = False\n",
    "\n",
    "idxAverageAngleDep = deployedLinkageTmp.dofOffsetForJoint(deployedLinkageTmp.numJoints() - 1) + 6\n",
    "fixedDepVars = fixedVars + [idxAverageAngleDep]\n",
    "\n",
    "for i in range(n_steps):\n",
    "    print(\"\\n FILE {} OUT OF {}\\n\".format(i+1, n_steps))\n",
    "    \n",
    "    flatLinkageTmp.setDesignParameters(spline_rq(ts[n_steps-i-1]))\n",
    "    deployedLinkageTmp.setDesignParameters(spline_rq(ts[n_steps-i-1]))\n",
    "    currDepDOFs = deployedLinkageTmp.getDoFs()\n",
    "    currDepDOFs[idxAverageAngleDep] = float(spline_alp(ts[n_steps-i-1]))\n",
    "    deployedLinkageTmp.setDoFs(currDepDOFs)\n",
    "    \n",
    "    with so(): average_angle_linkages.compute_equilibrium(flatLinkageTmp, elastic_rods.TARGET_ANGLE_NONE, options=cshell.newtonOptimizerOptions, fixedVars=fixedVars)\n",
    "    with so(): average_angle_linkages.compute_equilibrium(deployedLinkageTmp, elastic_rods.TARGET_ANGLE_NONE, options=cshell.newtonOptimizerOptions, fixedVars=fixedDepVars)\n",
    "    \n",
    "    print(flatLinkageTmp.energy())\n",
    "    print(deployedLinkageTmp.energy())\n",
    "    \n",
    "    flatFamilyA, flatFamilyB = ExtractQuantitiesPerSegment(\n",
    "        cshell.linkageOptimizer.target_surface_fitter, \n",
    "        cshell.rodEdgesFamily, \n",
    "        cshell.subdivision, \n",
    "        flatLinkageTmp\n",
    "    )\n",
    "    deployFamilyA, deployFamilyB = ExtractQuantitiesPerSegment(\n",
    "        cshell.linkageOptimizer.target_surface_fitter, \n",
    "        cshell.rodEdgesFamily, \n",
    "        cshell.subdivision, \n",
    "        deployedLinkageTmp\n",
    "    )\n",
    "    \n",
    "    jsonLinkages = {\n",
    "        'TargetSurface': [{\n",
    "            'Vertices': cshell.linkageOptimizer.getTargetSurfaceVertices().tolist(),\n",
    "            'Faces': cshell.linkageOptimizer.getTargetSurfaceFaces().tolist(),\n",
    "        }],\n",
    "        'CrossSection': [deployedLinkageTmp.homogenousMaterial().crossSection().params()],\n",
    "        'Flat_FamilyA': flatFamilyA,\n",
    "        'Flat_FamilyB': flatFamilyB,\n",
    "        'Deploy_FamilyA': deployFamilyA,\n",
    "        'Deploy_FamilyB': deployFamilyB,\n",
    "    }\n",
    "    \n",
    "    with open(pathToSaveJSON+\"StraightToCurved_{}.json\".format(str(n_steps-i-1).zfill(5)), \"w\") as f:\n",
    "        json.dump(jsonLinkages, f) \n"
   ]
  },
  {
   "cell_type": "code",
   "execution_count": null,
   "metadata": {},
   "outputs": [],
   "source": []
  }
 ],
 "metadata": {
  "interpreter": {
   "hash": "532253dd1d492a531a4a0e9f5a112e3e98e55d99579588313b14d9cd640c91ba"
  },
  "kernelspec": {
   "display_name": "Python 3 (ipykernel)",
   "language": "python",
   "name": "python3"
  },
  "language_info": {
   "codemirror_mode": {
    "name": "ipython",
    "version": 3
   },
   "file_extension": ".py",
   "mimetype": "text/x-python",
   "name": "python",
   "nbconvert_exporter": "python",
   "pygments_lexer": "ipython3",
   "version": "3.8.16"
  }
 },
 "nbformat": 4,
 "nbformat_minor": 4
}
