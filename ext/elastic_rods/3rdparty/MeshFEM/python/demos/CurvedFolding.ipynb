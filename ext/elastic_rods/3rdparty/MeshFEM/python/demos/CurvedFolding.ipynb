{
 "cells": [
  {
   "cell_type": "code",
   "execution_count": null,
   "metadata": {},
   "outputs": [],
   "source": [
    "import sys; sys.path.append('..')\n",
    "import MeshFEM\n",
    "import mesh, elastic_sheet, energy, benchmark\n",
    "import triangulation\n",
    "from tri_mesh_viewer import TriMeshViewer\n",
    "import numpy as np"
   ]
  },
  {
   "cell_type": "code",
   "execution_count": null,
   "metadata": {},
   "outputs": [],
   "source": [
    "V, E = mesh.load_raw('Data/victorinox.obj')\n",
    "area = 3.0\n",
    "V, F, edgeMarkers = triangulation.triangulate(V[:, 0:2], E, triArea=area, outputPointMarkers=False, outputEdgeMarkers=True)\n",
    "m = mesh.Mesh(V, F)\n",
    "\n",
    "isBoundary = np.zeros(m.numVertices(), dtype=np.bool)\n",
    "isBoundary[m.boundaryVertices()] = True\n",
    "creases = np.array([em for em in edgeMarkers if not isBoundary[em].all()])"
   ]
  },
  {
   "cell_type": "code",
   "execution_count": null,
   "metadata": {},
   "outputs": [],
   "source": [
    "psi = energy.NeoHookeanYoungPoisson(2, 1, 0.3)\n",
    "es = elastic_sheet.ElasticSheet(m, psi, creases)\n",
    "es.thickness = 0.05\n",
    "pinVars, pinVerts = es.prepareRigidMotionPins()\n",
    "creaseVars = np.arange(es.numCreases()) + es.creaseAngleOffset()"
   ]
  },
  {
   "cell_type": "code",
   "execution_count": null,
   "metadata": {},
   "outputs": [],
   "source": [
    "esview = TriMeshViewer(es, wireframe=True, width=1024, height=768)\n",
    "esview.materialLibrary.material(False).color='#CC1111'\n",
    "esview.show()"
   ]
  },
  {
   "cell_type": "code",
   "execution_count": null,
   "metadata": {},
   "outputs": [],
   "source": [
    "import py_newton_optimizer\n",
    "opts = py_newton_optimizer.NewtonOptimizerOptions()\n",
    "opts.niter = 20"
   ]
  },
  {
   "cell_type": "markdown",
   "metadata": {},
   "source": [
    "### Rerun the following cell to fold:"
   ]
  },
  {
   "cell_type": "code",
   "execution_count": null,
   "metadata": {},
   "outputs": [],
   "source": [
    "es.setCreaseAngles(es.getCreaseAngles()[0] + 0.2 * np.pi / 16 * np.ones(es.numCreases()))\n",
    "def iter_cb(prob, it):\n",
    "    return\n",
    "    if (it % 5 == 1):\n",
    "       esview.update()\n",
    "#benchmark.reset()\n",
    "es.computeEquilibrium(loads=[], fixedVars=pinVars + list(creaseVars), cb=iter_cb, opts=opts)\n",
    "esview.update()\n",
    "#benchmark.report()"
   ]
  }
 ],
 "metadata": {
  "kernelspec": {
   "display_name": "Python 3",
   "language": "python",
   "name": "python3"
  },
  "language_info": {
   "codemirror_mode": {
    "name": "ipython",
    "version": 3
   },
   "file_extension": ".py",
   "mimetype": "text/x-python",
   "name": "python",
   "nbconvert_exporter": "python",
   "pygments_lexer": "ipython3",
   "version": "3.8.5"
  }
 },
 "nbformat": 4,
 "nbformat_minor": 4
}
