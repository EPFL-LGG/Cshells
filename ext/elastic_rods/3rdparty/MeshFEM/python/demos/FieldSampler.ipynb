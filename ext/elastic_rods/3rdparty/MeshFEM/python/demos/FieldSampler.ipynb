{
 "cells": [
  {
   "cell_type": "code",
   "execution_count": null,
   "metadata": {},
   "outputs": [],
   "source": [
    "import sys; sys.path.append('..')\n",
    "import numpy as np\n",
    "import field_sampler, mesh"
   ]
  },
  {
   "cell_type": "code",
   "execution_count": null,
   "metadata": {},
   "outputs": [],
   "source": [
    "V = [[0, 0], [1, 0], [0, 1], [1, 1], [1.5, 0], [0.5, -0.5]]\n",
    "F = [[0, 1, 2], [1, 3, 2], [1, 4, 3], [1, 0, 5]]\n",
    "m = mesh.Mesh(V, F, degree=2, embeddingDimension=2)"
   ]
  },
  {
   "cell_type": "code",
   "execution_count": null,
   "metadata": {},
   "outputs": [],
   "source": [
    "# Define a scalar field on the vertices/nodes/elements\n",
    "def testScalarField(X): return np.cos(X[:, 0] * 1 * np.pi) * np.cos(X[:, 1] * 1 * np.pi)\n",
    "vertex_values = testScalarField(m.vertices())\n",
    "node_values   = testScalarField(m.nodes())\n",
    "element_values= testScalarField(m.vertices()[m.elements()].mean(axis=1)) # sample at barycenters"
   ]
  },
  {
   "cell_type": "code",
   "execution_count": null,
   "metadata": {},
   "outputs": [],
   "source": [
    "sraw  = field_sampler.FieldSampler(V, F)\n",
    "smesh = field_sampler.FieldSampler(m)"
   ]
  },
  {
   "cell_type": "code",
   "execution_count": null,
   "metadata": {},
   "outputs": [],
   "source": [
    "# Construct a high-resolution sampling grid\n",
    "X, Y = np.mgrid[-0.5:2.0:1001j, -1.0:1.5:1001j]\n",
    "P = np.column_stack((X.ravel(), Y.ravel()))"
   ]
  },
  {
   "cell_type": "code",
   "execution_count": null,
   "metadata": {},
   "outputs": [],
   "source": [
    "Craw  =  sraw.sample(P,  vertex_values)\n",
    "Crawc =  sraw.sample(P, element_values)\n",
    "Cquad = smesh.sample(P,    node_values)\n",
    "Ccnst = smesh.sample(P, element_values)\n",
    "# Restrict plot to the mesh domain\n",
    "Craw [ ~sraw.contains(P)] = np.nan\n",
    "Crawc[ ~sraw.contains(P)] = np.nan\n",
    "Cquad[~smesh.contains(P)] = np.nan\n",
    "Ccnst[~smesh.contains(P)] = np.nan"
   ]
  },
  {
   "cell_type": "code",
   "execution_count": null,
   "metadata": {},
   "outputs": [],
   "source": [
    "from matplotlib import pyplot as plt\n",
    "plt.figure(figsize=(8, 8))\n",
    "plt.subplot(2, 2, 1); plt.pcolormesh(X, Y,  Craw.reshape((X.shape[0], -1)), vmin=-1, vmax=1); plt.title('Raw Mesh (Linear)')\n",
    "plt.subplot(2, 2, 2); plt.pcolormesh(X, Y, Crawc.reshape((X.shape[0], -1)), vmin=-1, vmax=1); plt.title('Raw Mesh (Constant)')\n",
    "plt.subplot(2, 2, 3); plt.pcolormesh(X, Y, Cquad.reshape((X.shape[0], -1)), vmin=-1, vmax=1); plt.title('FEMMesh (Quadratic)')\n",
    "plt.subplot(2, 2, 4); plt.pcolormesh(X, Y, Ccnst.reshape((X.shape[0], -1)), vmin=-1, vmax=1); plt.title('FEMMesh (Constant)')\n",
    "plt.tight_layout()"
   ]
  }
 ],
 "metadata": {
  "kernelspec": {
   "display_name": "Python 3",
   "language": "python",
   "name": "python3"
  },
  "language_info": {
   "codemirror_mode": {
    "name": "ipython",
    "version": 3
   },
   "file_extension": ".py",
   "mimetype": "text/x-python",
   "name": "python",
   "nbconvert_exporter": "python",
   "pygments_lexer": "ipython3",
   "version": "3.8.5"
  }
 },
 "nbformat": 4,
 "nbformat_minor": 4
}
