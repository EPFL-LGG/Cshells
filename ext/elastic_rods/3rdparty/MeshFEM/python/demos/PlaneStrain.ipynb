{
 "cells": [
  {
   "cell_type": "code",
   "execution_count": null,
   "metadata": {},
   "outputs": [],
   "source": [
    "import sys; sys.path.append('..')\n",
    "import mesh, loads, meshing\n",
    "import numpy as np\n",
    "import tri_mesh_viewer\n",
    "import elastic_solid, energy\n",
    "import loads, sim_utils"
   ]
  },
  {
   "cell_type": "code",
   "execution_count": null,
   "metadata": {},
   "outputs": [],
   "source": [
    "m3d = mesh.Mesh(*meshing.tetrahedralize_extruded_polylines([np.array([(0, 0), (0, 1), (1, 1), (1, 0), (0, 0)])], [], thickness=10, maxVol=0.01), degree=2)\n",
    "\n",
    "es = elastic_solid.ElasticSolid(m3d, energy.IsotropicLinearElastic(3, 1, 0.3))\n",
    "traction = loads.Traction(es)\n",
    "\n",
    "# Apply compression to the four bar sides\n",
    "bdryC = es.mesh().boundaryMesh().barycenters()\n",
    "t = traction.boundaryTractions.copy()\n",
    "t[[c in sim_utils.getBBoxFaceRegion(es, sim_utils.BBoxFace.MIN_X) for c in bdryC]] = [ 1.0, 0, 0]\n",
    "t[[c in sim_utils.getBBoxFaceRegion(es, sim_utils.BBoxFace.MAX_X) for c in bdryC]] = [-1.0, 0, 0]\n",
    "t[[c in sim_utils.getBBoxFaceRegion(es, sim_utils.BBoxFace.MIN_Y) for c in bdryC]] = [ 0, 1.0, 0]\n",
    "t[[c in sim_utils.getBBoxFaceRegion(es, sim_utils.BBoxFace.MAX_Y) for c in bdryC]] = [ 0,-1.0, 0]\n",
    "traction.boundaryTractions = 0.5 * t\n",
    "\n",
    "# bm = es.mesh().boundaryMesh()\n",
    "# writer = mesh.MSHFieldWriter('traction.msh', bm.vertices(), bm.elements())\n",
    "# writer.addField('t', t)\n",
    "# del writer"
   ]
  },
  {
   "cell_type": "code",
   "execution_count": null,
   "metadata": {},
   "outputs": [],
   "source": [
    "# Just pin rigid motion\n",
    "fixedVars = [15, 16, 17, # xyz of vertex at (0, 0, -5)  (pin translation)\n",
    "             3,  4,     # xy  of vertex at (0, 0, 5)   (pin rotation around y and x axes)\n",
    "             12        ] # x   of vertex at (0, 1, -5)  (pin rotation around z axis)"
   ]
  },
  {
   "cell_type": "code",
   "execution_count": null,
   "metadata": {},
   "outputs": [],
   "source": [
    "# Block the expansion/contraction of the two ends\n",
    "fixedVars = [var for var in sim_utils.getBBoxVars(es, sim_utils.BBoxFace.MIN_Z) +\n",
    "                            sim_utils.getBBoxVars(es, sim_utils.BBoxFace.MAX_Z) if var % 3 == 2]\n",
    "fixedVars.extend([15, 16, 12]) # also fix xy coordinate of one vertex and pin rotation around z axis"
   ]
  },
  {
   "cell_type": "code",
   "execution_count": null,
   "metadata": {},
   "outputs": [],
   "source": [
    "es.computeEquilibrium([traction], fixedVars=fixedVars)"
   ]
  },
  {
   "cell_type": "code",
   "execution_count": null,
   "metadata": {},
   "outputs": [],
   "source": [
    "v = tri_mesh_viewer.TriMeshViewer(es, wireframe=True)\n",
    "v.show()"
   ]
  },
  {
   "cell_type": "code",
   "execution_count": null,
   "metadata": {},
   "outputs": [],
   "source": [
    "e_zz = [es.greenStrain(ei)[2, 2] for ei in range(es.numElements())]"
   ]
  },
  {
   "cell_type": "code",
   "execution_count": null,
   "metadata": {},
   "outputs": [],
   "source": [
    "v.update(scalarField=e_zz)"
   ]
  },
  {
   "cell_type": "code",
   "execution_count": null,
   "metadata": {},
   "outputs": [],
   "source": [
    "from matplotlib import pyplot as plt\n",
    "plt.hist(e_zz, bins=100);"
   ]
  }
 ],
 "metadata": {
  "kernelspec": {
   "display_name": "Python 3",
   "language": "python",
   "name": "python3"
  },
  "language_info": {
   "codemirror_mode": {
    "name": "ipython",
    "version": 3
   },
   "file_extension": ".py",
   "mimetype": "text/x-python",
   "name": "python",
   "nbconvert_exporter": "python",
   "pygments_lexer": "ipython3",
   "version": "3.9.0+"
  }
 },
 "nbformat": 4,
 "nbformat_minor": 4
}
