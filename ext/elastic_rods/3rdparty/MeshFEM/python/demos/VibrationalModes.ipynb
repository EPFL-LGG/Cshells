{
 "cells": [
  {
   "cell_type": "code",
   "execution_count": null,
   "metadata": {},
   "outputs": [],
   "source": [
    "import sys;  sys.path.append('..')\n",
    "import MeshFEM\n",
    "import mesh, elastic_solid, energy, differential_operators\n",
    "from compute_vibrational_modes import compute_vibrational_modes, MassMatrixType\n",
    "import mode_viewer"
   ]
  },
  {
   "cell_type": "code",
   "execution_count": null,
   "metadata": {},
   "outputs": [],
   "source": [
    "ball = mesh.Mesh('../../misc/examples/meshes/ball.msh', degree=1)\n",
    "e = elastic_solid.ElasticSolid(ball, energy.NeoHookeanYoungPoisson(3, 200, 0.3))\n",
    "lambdas, modes = compute_vibrational_modes(e, n=12, mtype=MassMatrixType.FULL, sigma=-1e-15)\n",
    "view = mode_viewer.ModeViewer(e, modes, lambdas, wireframe=False, numSteps=2)"
   ]
  },
  {
   "cell_type": "code",
   "execution_count": null,
   "metadata": {},
   "outputs": [],
   "source": [
    "view.show()"
   ]
  },
  {
   "cell_type": "code",
   "execution_count": null,
   "metadata": {},
   "outputs": [],
   "source": [
    "view.showWireframe(True)"
   ]
  }
 ],
 "metadata": {
  "kernelspec": {
   "display_name": "Python 3",
   "language": "python",
   "name": "python3"
  },
  "language_info": {
   "codemirror_mode": {
    "name": "ipython",
    "version": 3
   },
   "file_extension": ".py",
   "mimetype": "text/x-python",
   "name": "python",
   "nbconvert_exporter": "python",
   "pygments_lexer": "ipython3",
   "version": "3.8.5"
  }
 },
 "nbformat": 4,
 "nbformat_minor": 4
}
