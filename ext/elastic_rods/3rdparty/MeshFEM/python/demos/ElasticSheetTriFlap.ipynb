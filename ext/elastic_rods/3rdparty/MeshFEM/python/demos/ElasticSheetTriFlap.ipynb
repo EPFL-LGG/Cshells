{
 "cells": [
  {
   "cell_type": "code",
   "execution_count": null,
   "metadata": {},
   "outputs": [],
   "source": [
    "import sys; sys.path.extend(['..', '../validations/'])\n",
    "import MeshFEM\n",
    "import mesh, elastic_sheet, energy, tensors\n",
    "from tri_mesh_viewer import TriMeshViewer, PointCloudViewer, PointCloudMesh\n",
    "import py_newton_optimizer, fd_validation, benchmark\n",
    "from matplotlib import pyplot as plt\n",
    "import meshing, time\n",
    "import numpy as np\n",
    "from io_redirection import suppress_stdout as so\n",
    "from ipywidgets import interact, widgets\n",
    "import sim_utils, sheet_convergence\n",
    "\n",
    "# Flap made of two equilateral triangles with dihedral angle `theta`\n",
    "def flapPts(theta, heightScale=1.0, base=1.0):\n",
    "    h = heightScale * np.sqrt(1 - 0.5**2)\n",
    "    alpha = theta / 2 - np.pi / 2\n",
    "    c, s = np.cos(alpha), np.sin(alpha)\n",
    "    return [[0, 0, -0.5 * base], [0, 0, 0.5 * base], [h * c, h * s, 0], [-h * c, h * s, 0]]\n",
    "    \n",
    "def flapTris(theta):\n",
    "    V = flapPts(theta)\n",
    "    F = [[0, 1, 2], [1, 0, 3]]\n",
    "    return V, F"
   ]
  },
  {
   "cell_type": "code",
   "execution_count": null,
   "metadata": {},
   "outputs": [],
   "source": [
    "showNormals = True\n",
    "thickness = 1.0"
   ]
  },
  {
   "cell_type": "code",
   "execution_count": null,
   "metadata": {},
   "outputs": [],
   "source": [
    "#es = elastic_sheet.ElasticSheet(mesh.Mesh(*flapTris(np.pi), embeddingDimension=3), energy.StVenantKirchhoffCBased(tensors.ElasticityTensor2D(200, 0.3)))\n",
    "creaseEdges = [[0, 1]]\n",
    "es = elastic_sheet.ElasticSheet(mesh.Mesh(*flapTris(np.pi), embeddingDimension=3), energy.NeoHookeanYoungPoisson(2, 200, 0.3), creaseEdges)\n",
    "es.thickness = thickness\n",
    "view = TriMeshViewer(es, wireframe=True, width=800, height=600)\n",
    "normalView = PointCloudViewer(es.edgeMidpoints(), vectorField=es.midedgeNormals(), superView=view) if showNormals else None\n",
    "\n",
    "out = widgets.Output()\n",
    "out.layout.height = '40px'"
   ]
  },
  {
   "cell_type": "code",
   "execution_count": null,
   "metadata": {},
   "outputs": [],
   "source": [
    "def sheetUpdate(theta, height, base, creaseAngle =0.0):\n",
    "    es.setDeformedPositions(flapPts(theta, heightScale=height, base=base))\n",
    "    es.setCreaseAngles([creaseAngle])\n",
    "    es.initializeMidedgeNormals()\n",
    "\n",
    "def updateFlap(theta = np.pi, height=1.0, base=1.0, creaseAngle=0.0):\n",
    "    sheetUpdate(theta, height, base, creaseAngle)\n",
    "    if showNormals: normalView.update(preserveExisting=False, mesh=PointCloudMesh(es.edgeMidpoints()), vectorField=es.midedgeNormals())\n",
    "    view.update(vectorField=-es.gradient()[0:es.thetaOffset()].reshape((-1, 3)))\n",
    "    out.clear_output()\n",
    "    with out:\n",
    "        print('Membrane energy: ', es.energy(es.EnergyType.Membrane))\n",
    "        print('Bending  energy: ', es.energy(es.EnergyType.Bending))\n",
    "        print('Total    energy: ', es.energy())\n",
    "    #view.update()"
   ]
  },
  {
   "cell_type": "code",
   "execution_count": null,
   "metadata": {},
   "outputs": [],
   "source": [
    "sheetUpdate(np.pi - 1.57, 1.0, 1.0, 1.57)\n",
    "es.energy()"
   ]
  },
  {
   "cell_type": "code",
   "execution_count": null,
   "metadata": {},
   "outputs": [],
   "source": [
    "view.setDarkMode(False)\n",
    "display(view.show())\n",
    "display(out)\n",
    "\n",
    "i = interact(updateFlap, theta=(0.0, 2 * np.pi, 0.01), height=(0.0, 2.0, 0.01), base=(0.0, 2.0, 0.01), creaseAngle=(-np.pi, np.pi, 0.01));\n",
    "def reset(sender):\n",
    "    i.widget.children[0].value = np.pi\n",
    "    i.widget.children[1].value = 1.0\n",
    "    i.widget.children[2].value = 1.0\n",
    "    i.widget.children[3].value = 0.0\n",
    "b = widgets.Button()\n",
    "b.description = 'Reset'\n",
    "b.on_click(reset)\n",
    "display(b)"
   ]
  },
  {
   "cell_type": "code",
   "execution_count": null,
   "metadata": {},
   "outputs": [],
   "source": [
    "scales = np.linspace(1e-4, 1.0, 1000)\n",
    "energies = {}\n",
    "for thetas in [12 * np.pi / 8, 13 * np.pi / 8, 13 * np.pi / 8, 14 * np.pi / 8, 15 * np.pi / 8, 2 * np.pi]:\n",
    "    energies[thetas] = []\n",
    "    for s in scales:\n",
    "        sheetUpdate(thetas, s, 0.5 * s)\n",
    "        energies[thetas].append([es.energy(), es.energy(es.EnergyType.Bending), es.energy(es.EnergyType.Membrane)])\n",
    "    energies[thetas] = np.array(energies[thetas])"
   ]
  },
  {
   "cell_type": "code",
   "execution_count": null,
   "metadata": {},
   "outputs": [],
   "source": [
    "import fractions\n",
    "plt.figure(figsize=(12, 4))\n",
    "for col, name in enumerate(['Full', 'Bending', 'Membrane']):\n",
    "    plt.subplot(1, 3, 1 + col)\n",
    "    for k, e in energies.items():\n",
    "        f = fractions.Fraction(k / np.pi).limit_denominator(10)\n",
    "        plt.plot(scales, e[:, col], label=r'$\\theta = \\frac{' + str(f.numerator) + '}{' + str(f.denominator) + '} \\pi$')\n",
    "        plt.title(f'{name} Energy')\n",
    "    plt.grid()\n",
    "    plt.legend()\n",
    "plt.tight_layout()"
   ]
  }
 ],
 "metadata": {
  "kernelspec": {
   "display_name": "Python 3",
   "language": "python",
   "name": "python3"
  },
  "language_info": {
   "codemirror_mode": {
    "name": "ipython",
    "version": 3
   },
   "file_extension": ".py",
   "mimetype": "text/x-python",
   "name": "python",
   "nbconvert_exporter": "python",
   "pygments_lexer": "ipython3",
   "version": "3.9.0+"
  }
 },
 "nbformat": 4,
 "nbformat_minor": 4
}
