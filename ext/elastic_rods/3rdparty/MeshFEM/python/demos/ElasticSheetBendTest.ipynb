{
 "cells": [
  {
   "cell_type": "code",
   "execution_count": null,
   "metadata": {},
   "outputs": [],
   "source": [
    "import sys; sys.path.extend(['..', '../validations/'])\n",
    "import MeshFEM\n",
    "import mesh, elastic_sheet\n",
    "from tri_mesh_viewer import TriMeshViewer, PointCloudViewer\n",
    "import py_newton_optimizer, fd_validation, benchmark\n",
    "from matplotlib import pyplot as plt\n",
    "import meshing, time\n",
    "import numpy as np\n",
    "from io_redirection import suppress_stdout as so\n",
    "import sim_utils, sheet_convergence"
   ]
  },
  {
   "cell_type": "code",
   "execution_count": null,
   "metadata": {},
   "outputs": [],
   "source": [
    "def bend(X, angle = np.pi / 4):\n",
    "    x, y, z = X[:, 0], X[:, 1], X[:, 2]\n",
    "    L = x.max() - x.min()\n",
    "    xm = 0.5 * (x.max() + x.min())\n",
    "    height = 0.5 * L * np.sin(angle)\n",
    "    z = height * 2 * (L - np.abs(xm - x)) / L\n",
    "    # (s * x)^2 + (2 * H / L)^2 = 1\n",
    "    x *= np.sqrt(1 - (2 * height / L)**2)\n",
    "    return np.column_stack((x, y, z))"
   ]
  },
  {
   "cell_type": "code",
   "execution_count": null,
   "metadata": {},
   "outputs": [],
   "source": [
    "es = sheet_convergence.getSheet(0.05, maxArea=1e-3, L=6, useNeoHookean=True)\n",
    "es.setDeformedPositions(bend(es.getRestPositions(), 3.5 * np.pi / 8))\n",
    "es.initializeMidedgeNormals()\n",
    "es.energy(es.EnergyType.Membrane), es.energy(es.EnergyType.Bending)"
   ]
  },
  {
   "cell_type": "code",
   "execution_count": null,
   "metadata": {},
   "outputs": [],
   "source": [
    "leftEdgeVars = sim_utils.getBBoxVars(es, sim_utils.BBoxFace.MIN_X, displacementsOnly=True)\n",
    "rightEdgeVars= sim_utils.getBBoxVars(es, sim_utils.BBoxFace.MAX_X, displacementsOnly=True)\n",
    "clampThetas  = sim_utils.getBBoxVars(es, sim_utils.BBoxFace.MIN_Z, displacementComponents=[], restPos=False, tol=2.0)\n",
    "botVars      = sim_utils.getBBoxVars(es, sim_utils.BBoxFace.MIN_Z, displacementsOnly=True, tol=1.0, restPos=False)"
   ]
  },
  {
   "cell_type": "code",
   "execution_count": null,
   "metadata": {},
   "outputs": [],
   "source": [
    "v_plate = TriMeshViewer(es, wireframe=True, width=800, height=600)\n",
    "v_plate.show()"
   ]
  },
  {
   "cell_type": "code",
   "execution_count": null,
   "metadata": {},
   "outputs": [],
   "source": [
    "strainEigs = np.array([np.linalg.eigh(0.5 * (C - np.identity(2)))[0] for C in es.getC()])\n",
    "v_plate.update(scalarField=strainEigs[:, 0])"
   ]
  },
  {
   "cell_type": "code",
   "execution_count": null,
   "metadata": {},
   "outputs": [],
   "source": [
    "plate_normalVis = None\n",
    "def updateNormalView():\n",
    "    return\n",
    "    global plate_normalVis\n",
    "    v_plate.subViews = []\n",
    "    plate_normalVis = PointCloudViewer(es.edgeMidpoints(), vectorField=es.midedgeNormals(), superView=v_plate)\n",
    "    plate_normalVis.arrowSize = 20\n",
    "updateNormalView()"
   ]
  },
  {
   "cell_type": "code",
   "execution_count": null,
   "metadata": {},
   "outputs": [],
   "source": [
    "def iter_cb(prob, it):\n",
    "    v_plate.update()\n",
    "    #updateNormalView()\n",
    "opts = py_newton_optimizer.NewtonOptimizerOptions()\n",
    "opts.niter = 50\n",
    "opts.gradTol = 1e-9\n",
    "es.computeEquilibrium([], botVars + clampThetas, opts=opts, cb=iter_cb)\n",
    "#v_plate.update()"
   ]
  },
  {
   "cell_type": "code",
   "execution_count": null,
   "metadata": {},
   "outputs": [],
   "source": [
    "es.energy(), es.energy(etype=es.EnergyType.Membrane), es.energy(etype=es.EnergyType.Bending)"
   ]
  }
 ],
 "metadata": {
  "kernelspec": {
   "display_name": "Python 3",
   "language": "python",
   "name": "python3"
  },
  "language_info": {
   "codemirror_mode": {
    "name": "ipython",
    "version": 3
   },
   "file_extension": ".py",
   "mimetype": "text/x-python",
   "name": "python",
   "nbconvert_exporter": "python",
   "pygments_lexer": "ipython3",
   "version": "3.8.5"
  }
 },
 "nbformat": 4,
 "nbformat_minor": 4
}
