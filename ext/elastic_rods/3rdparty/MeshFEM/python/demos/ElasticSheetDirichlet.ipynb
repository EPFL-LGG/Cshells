{
 "cells": [
  {
   "cell_type": "code",
   "execution_count": null,
   "metadata": {},
   "outputs": [],
   "source": [
    "import sys; sys.path.extend(['..', '../validations/'])\n",
    "import MeshFEM\n",
    "import mesh, elastic_sheet\n",
    "from tri_mesh_viewer import TriMeshViewer, PointCloudViewer\n",
    "import py_newton_optimizer, fd_validation, benchmark\n",
    "from matplotlib import pyplot as plt\n",
    "import meshing, time\n",
    "import numpy as np\n",
    "from io_redirection import suppress_stdout as so"
   ]
  },
  {
   "cell_type": "code",
   "execution_count": null,
   "metadata": {},
   "outputs": [],
   "source": [
    "import sim_utils, sheet_convergence"
   ]
  },
  {
   "cell_type": "code",
   "execution_count": null,
   "metadata": {},
   "outputs": [],
   "source": [
    "es = sheet_convergence.getSheet(0.05, maxArea=2e-2, L=12, useNeoHookean=True)"
   ]
  },
  {
   "cell_type": "code",
   "execution_count": null,
   "metadata": {},
   "outputs": [],
   "source": [
    "es.setDeformedPositions(sheet_convergence.Phi(es.getRestPositions()))\n",
    "es.initializeMidedgeNormals()"
   ]
  },
  {
   "cell_type": "code",
   "execution_count": null,
   "metadata": {},
   "outputs": [],
   "source": [
    "leftThetas   = sim_utils.getBBoxVars(es, sim_utils.BBoxFace.MIN_X, displacementComponents=[])\n",
    "rightThetas  = sim_utils.getBBoxVars(es, sim_utils.BBoxFace.MAX_X, displacementComponents=[])\n",
    "leftEdgeVars = sim_utils.getBBoxVars(es, sim_utils.BBoxFace.MIN_X)\n",
    "rightEdgeVars= sim_utils.getBBoxVars(es, sim_utils.BBoxFace.MAX_X)"
   ]
  },
  {
   "cell_type": "code",
   "execution_count": null,
   "metadata": {},
   "outputs": [],
   "source": [
    "thetas = es.getThetas()"
   ]
  },
  {
   "cell_type": "code",
   "execution_count": null,
   "metadata": {},
   "outputs": [],
   "source": [
    "v_plate = TriMeshViewer(es, wireframe=True, width=800, height=600)\n",
    "v_plate.show()"
   ]
  },
  {
   "cell_type": "code",
   "execution_count": null,
   "metadata": {},
   "outputs": [],
   "source": [
    "v_plate.setDarkMode(True)"
   ]
  },
  {
   "cell_type": "code",
   "execution_count": null,
   "metadata": {},
   "outputs": [],
   "source": [
    "v_plate.resetCamera()"
   ]
  },
  {
   "cell_type": "code",
   "execution_count": null,
   "metadata": {},
   "outputs": [],
   "source": [
    "plate_normalVis = None\n",
    "def updateNormalView():\n",
    "    return\n",
    "    global plate_normalVis\n",
    "    v_plate.subViews = []\n",
    "    plate_normalVis = PointCloudViewer(es.edgeMidpoints(), vectorField=es.midedgeNormals(), superView=v_plate)\n",
    "    plate_normalVis.arrowSize = 20\n",
    "updateNormalView()"
   ]
  },
  {
   "cell_type": "code",
   "execution_count": null,
   "metadata": {},
   "outputs": [],
   "source": [
    "es.setThetas(thetas)\n",
    "updateNormalView()"
   ]
  },
  {
   "cell_type": "code",
   "execution_count": null,
   "metadata": {},
   "outputs": [],
   "source": [
    "accumTurn = 0"
   ]
  },
  {
   "cell_type": "code",
   "execution_count": null,
   "metadata": {},
   "outputs": [],
   "source": [
    "updatedThetas = es.getThetas()\n",
    "delta = np.pi / 48\n",
    "updatedThetas[np.array(leftThetas) - es.thetaOffset()] -= delta\n",
    "updatedThetas[np.array(rightThetas) - es.thetaOffset()] -= delta\n",
    "accumTurn += delta\n",
    "es.setThetas(updatedThetas)\n",
    "#updateNormalView()\n",
    "\n",
    "def iter_cb(prob, it):\n",
    "    v_plate.update()\n",
    "    #updateNormalView()\n",
    "opts = py_newton_optimizer.NewtonOptimizerOptions()\n",
    "opts.niter = 1000\n",
    "opts.gradTol = 1e-10\n",
    "es.computeEquilibrium([], leftEdgeVars + rightEdgeVars, opts=opts, cb=iter_cb)\n",
    "#v_plate.update()"
   ]
  },
  {
   "cell_type": "code",
   "execution_count": null,
   "metadata": {},
   "outputs": [],
   "source": [
    "es.energy(), es.energy(etype=es.EnergyType.Membrane), es.energy(etype=es.EnergyType.Bending)"
   ]
  }
 ],
 "metadata": {
  "kernelspec": {
   "display_name": "Python 3",
   "language": "python",
   "name": "python3"
  },
  "language_info": {
   "codemirror_mode": {
    "name": "ipython",
    "version": 3
   },
   "file_extension": ".py",
   "mimetype": "text/x-python",
   "name": "python",
   "nbconvert_exporter": "python",
   "pygments_lexer": "ipython3",
   "version": "3.8.5"
  }
 },
 "nbformat": 4,
 "nbformat_minor": 4
}
