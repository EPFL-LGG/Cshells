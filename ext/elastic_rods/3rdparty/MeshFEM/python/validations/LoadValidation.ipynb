{
 "cells": [
  {
   "cell_type": "code",
   "execution_count": null,
   "metadata": {},
   "outputs": [],
   "source": [
    "import sys; sys.path.append('..')\n",
    "import numpy as np, importlib\n",
    "import mesh, fd_validation, parallelism"
   ]
  },
  {
   "cell_type": "code",
   "execution_count": null,
   "metadata": {},
   "outputs": [],
   "source": [
    "np.random.seed(0)\n",
    "m = mesh.Mesh('../../misc/examples/meshes/square_hole.off',  embeddingDimension=3)\n",
    "m = mesh.Mesh('../../misc/examples/meshes/sphere_hires.msh', embeddingDimension=3)"
   ]
  },
  {
   "cell_type": "code",
   "execution_count": null,
   "metadata": {},
   "outputs": [],
   "source": [
    "import elastic_sheet, energy, tensors, loads\n",
    "et = tensors.ElasticityTensor2D(0.0, 0.3) # Young's modulus 0 disables the elastic energy term\n",
    "psi = energy.StVenantKirchhoffCBased(et)\n",
    "es = elastic_sheet.ElasticSheet(m, psi)"
   ]
  },
  {
   "cell_type": "code",
   "execution_count": null,
   "metadata": {},
   "outputs": [],
   "source": [
    "gravity = loads.Gravity(es, 1.0)\n",
    "spreaders = loads.Spreaders(es, [[0, 1], [2, 3]], [[0, 1]], 1)\n",
    "springs = loads.Springs(es, [loads.AttachmentPointCoordinate([0], [1.0]), loads.AttachmentPointCoordinate([3, 6, 9], [1/3, 1/3, 1/3])], # Pull the x component of vertex 0, and the x component of the barycenter of vertices 2, 3, 4...\n",
    "                            [loads.AttachmentPointCoordinate([3], [1.0]), loads.AttachmentPointCoordinate([], [0.0])],            # ... toward the x component of vertex 1, and the fixed value 0, respectively\n",
    "                        1.0)"
   ]
  },
  {
   "cell_type": "code",
   "execution_count": null,
   "metadata": {},
   "outputs": [],
   "source": [
    "prob = es.EquilibriumProblem([spreaders, gravity, springs])"
   ]
  },
  {
   "cell_type": "code",
   "execution_count": null,
   "metadata": {},
   "outputs": [],
   "source": [
    "es.setVars(es.getVars() + 1e-1 * np.random.uniform(size=es.numVars()))"
   ]
  },
  {
   "cell_type": "code",
   "execution_count": null,
   "metadata": {},
   "outputs": [],
   "source": [
    "fd_validation.gradConvergencePlot(prob)"
   ]
  },
  {
   "cell_type": "code",
   "execution_count": null,
   "metadata": {},
   "outputs": [],
   "source": [
    "fd_validation.hessConvergencePlot(prob)"
   ]
  }
 ],
 "metadata": {
  "kernelspec": {
   "display_name": "Python 3",
   "language": "python",
   "name": "python3"
  },
  "language_info": {
   "codemirror_mode": {
    "name": "ipython",
    "version": 3
   },
   "file_extension": ".py",
   "mimetype": "text/x-python",
   "name": "python",
   "nbconvert_exporter": "python",
   "pygments_lexer": "ipython3",
   "version": "3.8.5"
  }
 },
 "nbformat": 4,
 "nbformat_minor": 4
}
