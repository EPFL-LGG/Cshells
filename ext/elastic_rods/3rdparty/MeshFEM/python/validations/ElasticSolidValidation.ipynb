{
 "cells": [
  {
   "cell_type": "markdown",
   "metadata": {},
   "source": [
    "## Finite difference validation of elastic solid derivatives"
   ]
  },
  {
   "cell_type": "code",
   "execution_count": null,
   "metadata": {},
   "outputs": [],
   "source": [
    "import sys; sys.path.append('..')\n",
    "import energy, tensors, mesh, elastic_solid\n",
    "import numpy as np\n",
    "from numpy.linalg import norm\n",
    "from matplotlib import pyplot as plt\n",
    "import fd_validation"
   ]
  },
  {
   "cell_type": "code",
   "execution_count": null,
   "metadata": {},
   "outputs": [],
   "source": [
    "def testMesh(dim, deg):\n",
    "    if (dim == 2): return mesh.Mesh('../../misc/examples/meshes/square_hole.off', deg)\n",
    "    if (dim == 3): return mesh.Mesh('../../misc/examples/meshes/ball.msh', deg)"
   ]
  },
  {
   "cell_type": "code",
   "execution_count": null,
   "metadata": {},
   "outputs": [],
   "source": [
    "def getOrthoTensor(dim):\n",
    "    if (dim == 3):\n",
    "        et = tensors.ElasticityTensor3D()\n",
    "        et.setOrthotropic(1, 1.5, 2, 0.3, 0.05, -0.03, 0.51, 0.73, 0.82)\n",
    "    if (dim == 2):\n",
    "        et = tensors.ElasticityTensor2D()\n",
    "        et.setOrthotropic(1, 1, 0.3, 0.5)\n",
    "    return et"
   ]
  },
  {
   "cell_type": "code",
   "execution_count": null,
   "metadata": {},
   "outputs": [],
   "source": [
    "def getNeoHookean(dim): return energy.NeoHookeanYoungPoisson(dim, 200, 0.35)\n",
    "def getLinearElastic(dim): return energy.IsotropicLinearElastic(dim, 200, 0.35)\n",
    "def getCRIsoLinearElastic(dim): return energy.CorotatedIsotropicLinearElastic(dim, 200, 0.35)\n",
    "def getStVK(dim):\n",
    "    e = energy.StVenantKirchhoffAutoProjected(getOrthoTensor(dim))\n",
    "    e.projectionEnabled = False # Of course the projected Hessian does not pass FD tests.\n",
    "    return e\n",
    "def getCROrthoLinearElastic(dim): return energy.CorotatedLinearElastic(getOrthoTensor(dim))\n",
    "def getCRIsoHessProj(dim):\n",
    "    psi = energy.IsoCRLEWithHessianProjection(dim, 200, 0.35)\n",
    "    psi.projectionEnabled = False # Of course the projected Hessian does not pass FD tests.\n",
    "    return psi"
   ]
  },
  {
   "cell_type": "code",
   "execution_count": null,
   "metadata": {},
   "outputs": [],
   "source": [
    "def getPerturb(F):\n",
    "    return np.random.uniform(-1, 1, F.shape)\n",
    "\n",
    "def genPlots(getEnergy):\n",
    "    def test(dim, deg):\n",
    "        m = testMesh(dim, deg)\n",
    "        obj = elastic_solid.ElasticSolid(m, getEnergy(dim))\n",
    "        curr = obj.getVars()\n",
    "        delta_x = getPerturb(curr)\n",
    "        obj.setVars(curr + 1e-2 * getPerturb(curr)) # Evaluate away from the zero-gradient undeformed configuration \n",
    "        fd_validation.gradConvergencePlotRaw(obj, perturb=delta_x)\n",
    "        fd_validation.hessConvergencePlotRaw(obj, perturb=delta_x)\n",
    "        plt.grid()\n",
    "        plt.legend()\n",
    "        name = obj.__class__.__name__\n",
    "        try: name += \"\\n(Isotropic)\" if obj.getEnergyDensity(0).isIsotropic() else \"\\n(Orthotropic)\"\n",
    "        except: pass\n",
    "        plt.title(name)\n",
    "    fig = plt.figure(figsize=(20, 4))\n",
    "    for dim in [2, 3]:\n",
    "        for deg in [1, 2]:\n",
    "            plt.subplot(1, 4, 2 * (dim - 2) + deg)\n",
    "            test(dim, deg)\n",
    "    plt.tight_layout()"
   ]
  },
  {
   "cell_type": "code",
   "execution_count": null,
   "metadata": {},
   "outputs": [],
   "source": [
    "for ge in [getNeoHookean, getLinearElastic, getCRIsoLinearElastic, getCROrthoLinearElastic,\n",
    "           getStVK, getCRIsoHessProj]:\n",
    "    genPlots(ge)"
   ]
  }
 ],
 "metadata": {
  "kernelspec": {
   "display_name": "Python 3",
   "language": "python",
   "name": "python3"
  },
  "language_info": {
   "codemirror_mode": {
    "name": "ipython",
    "version": 3
   },
   "file_extension": ".py",
   "mimetype": "text/x-python",
   "name": "python",
   "nbconvert_exporter": "python",
   "pygments_lexer": "ipython3",
   "version": "3.8.5"
  }
 },
 "nbformat": 4,
 "nbformat_minor": 4
}
