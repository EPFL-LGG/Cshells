{
 "cells": [
  {
   "cell_type": "code",
   "execution_count": null,
   "metadata": {},
   "outputs": [],
   "source": [
    "import sys; sys.path.append('..')\n",
    "import numpy as np, importlib\n",
    "import mesh, tri_mesh_viewer, fd_validation, parallelism"
   ]
  },
  {
   "cell_type": "code",
   "execution_count": null,
   "metadata": {},
   "outputs": [],
   "source": [
    "#parallelism.set_max_num_tbb_threads(1)\n",
    "#parallelism.set_gradient_assembly_num_threads(1)\n",
    "#parallelism.set_hessian_assembly_num_threads(1)\n",
    "\n",
    "np.random.seed(0)\n",
    "\n",
    "m = mesh.Mesh('../../misc/examples/meshes/square_hole.off', embeddingDimension=3)"
   ]
  },
  {
   "cell_type": "code",
   "execution_count": null,
   "metadata": {},
   "outputs": [],
   "source": [
    "#v = tri_mesh_viewer.TriMeshViewer(m, wireframe=True, width=1024, height=768)\n",
    "#v.show()"
   ]
  },
  {
   "cell_type": "code",
   "execution_count": null,
   "metadata": {},
   "outputs": [],
   "source": [
    "import elastic_sheet, energy, tensors\n",
    "\n",
    "et = tensors.ElasticityTensor2D(200, 0.3)\n",
    "psi = energy.StVenantKirchhoffCBased(et)\n",
    "\n",
    "es = elastic_sheet.ElasticSheet(m, psi)"
   ]
  },
  {
   "cell_type": "code",
   "execution_count": null,
   "metadata": {},
   "outputs": [],
   "source": [
    "import py_newton_optimizer"
   ]
  },
  {
   "cell_type": "code",
   "execution_count": null,
   "metadata": {},
   "outputs": [],
   "source": [
    "nip = es.normalInferenceProblem()"
   ]
  },
  {
   "cell_type": "code",
   "execution_count": null,
   "metadata": {},
   "outputs": [],
   "source": [
    "nip.energy()"
   ]
  },
  {
   "cell_type": "code",
   "execution_count": null,
   "metadata": {},
   "outputs": [],
   "source": [
    "perturb = np.random.uniform(size=nip.numVars())"
   ]
  },
  {
   "cell_type": "code",
   "execution_count": null,
   "metadata": {},
   "outputs": [],
   "source": [
    "nip.setVars(1e-1 * perturb)"
   ]
  },
  {
   "cell_type": "code",
   "execution_count": null,
   "metadata": {},
   "outputs": [],
   "source": [
    "fd_validation.gradConvergencePlot(es.normalInferenceProblem())"
   ]
  },
  {
   "cell_type": "code",
   "execution_count": null,
   "metadata": {},
   "outputs": [],
   "source": [
    "vh = np.array(fd_validation.validateHessian(es.normalInferenceProblem())[1:3])"
   ]
  },
  {
   "cell_type": "code",
   "execution_count": null,
   "metadata": {},
   "outputs": [],
   "source": [
    "fd_validation.hessConvergencePlot(es.normalInferenceProblem())"
   ]
  }
 ],
 "metadata": {
  "kernelspec": {
   "display_name": "Python 3",
   "language": "python",
   "name": "python3"
  },
  "language_info": {
   "codemirror_mode": {
    "name": "ipython",
    "version": 3
   },
   "file_extension": ".py",
   "mimetype": "text/x-python",
   "name": "python",
   "nbconvert_exporter": "python",
   "pygments_lexer": "ipython3",
   "version": "3.8.5"
  }
 },
 "nbformat": 4,
 "nbformat_minor": 4
}
