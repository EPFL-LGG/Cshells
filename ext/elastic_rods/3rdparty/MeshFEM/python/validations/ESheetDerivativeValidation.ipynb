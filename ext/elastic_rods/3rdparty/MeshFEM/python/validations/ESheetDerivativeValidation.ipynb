{
 "cells": [
  {
   "cell_type": "code",
   "execution_count": null,
   "metadata": {},
   "outputs": [],
   "source": [
    "import sys; sys.path.append('..')\n",
    "import numpy as np, importlib\n",
    "import mesh, tri_mesh_viewer, fd_validation, parallelism"
   ]
  },
  {
   "cell_type": "code",
   "execution_count": null,
   "metadata": {},
   "outputs": [],
   "source": [
    "#parallelism.set_max_num_tbb_threads(1)\n",
    "#parallelism.set_gradient_assembly_num_threads(1)\n",
    "#parallelism.set_hessian_assembly_num_threads(1)\n",
    "\n",
    "np.random.seed(0)\n",
    "\n",
    "m = mesh.Mesh('../../misc/examples/meshes/square_hole.off', embeddingDimension=3)"
   ]
  },
  {
   "cell_type": "code",
   "execution_count": null,
   "metadata": {},
   "outputs": [],
   "source": [
    "#v = tri_mesh_viewer.TriMeshViewer(m, wireframe=True, width=1024, height=768)\n",
    "#v.show()"
   ]
  },
  {
   "cell_type": "code",
   "execution_count": null,
   "metadata": {},
   "outputs": [],
   "source": [
    "creases = [[40, 210], [210, 56], [56, 212], [212, 58], [58, 216], [216, 46]] # Diagonal chosen from the mesh\n",
    "#creases = np.zeros((0, 2), dtype=np.int)"
   ]
  },
  {
   "cell_type": "code",
   "execution_count": null,
   "metadata": {},
   "outputs": [],
   "source": [
    "import elastic_sheet, energy, tensors\n",
    "\n",
    "#et = tensors.ElasticityTensor2D(200, 0.3)\n",
    "#psi = energy.StVenantKirchhoffCBased(et)\n",
    "psi = energy.NeoHookeanYoungPoisson(2, 200, 0.3)\n",
    "es = elastic_sheet.ElasticSheet(m, psi, creaseEdges=creases)\n",
    "es.hessianProjectionType = es.HPType.Off"
   ]
  },
  {
   "cell_type": "code",
   "execution_count": null,
   "metadata": {},
   "outputs": [],
   "source": [
    "import elastic_solid\n",
    "m2d = mesh.Mesh('../../misc/examples/meshes/square_hole.off', embeddingDimension=2)"
   ]
  },
  {
   "cell_type": "code",
   "execution_count": null,
   "metadata": {},
   "outputs": [],
   "source": [
    "perturb2D = 1e-2 * np.random.normal(size=(m2d.numVertices(), 2))\n",
    "perturb3D = np.pad(perturb2D, [(0, 0), (0, 1)])"
   ]
  },
  {
   "cell_type": "code",
   "execution_count": null,
   "metadata": {},
   "outputs": [],
   "source": [
    "es.setDeformedPositions(es.getDeformedPositions() + perturb3D)"
   ]
  },
  {
   "cell_type": "code",
   "execution_count": null,
   "metadata": {},
   "outputs": [],
   "source": [
    "importlib.reload(fd_validation)\n",
    "fd_validation.gradConvergencePlot(es, customArgs={'updatedSource': False, 'etype': es.EnergyType.Membrane}) # non-updated source"
   ]
  },
  {
   "cell_type": "code",
   "execution_count": null,
   "metadata": {},
   "outputs": [],
   "source": [
    "# Now we perturb out of plane and test the bending energy gradients\n",
    "es.setVars(es.getVars() + np.random.normal(size=es.numVars()))\n",
    "#es.updateSourceFrame()\n",
    "deltaVar = np.random.normal(size=es.numVars())"
   ]
  },
  {
   "cell_type": "code",
   "execution_count": null,
   "metadata": {},
   "outputs": [],
   "source": [
    "#es.updateSourceFrame()"
   ]
  },
  {
   "cell_type": "code",
   "execution_count": null,
   "metadata": {},
   "outputs": [],
   "source": [
    "# es.setIdentityDeformation()\n",
    "# es.setThetas(np.random.normal(size=len(es.getThetas())))\n",
    "# \n",
    "# deltaVar = np.random.normal(size=es.numVars())\n",
    "# #deltaVar[:es.thetaOffset()] = 0.0\n",
    "# deltaVar[es.thetaOffset():] = 0.0\n",
    "# deltaVar[:es.thetaOffset()] = np.pad(np.random.normal(size=(m.numVertices(), 2)), [(0, 0), (0, 1)]).ravel() # Perturb in plane only\n",
    "# deltaVar[:] = 0.0\n",
    "# deltaVar[1] = 1.0"
   ]
  },
  {
   "cell_type": "code",
   "execution_count": null,
   "metadata": {},
   "outputs": [],
   "source": [
    "#es.setCreaseAngles(np.zeros_like(es.getCreaseAngles()))"
   ]
  },
  {
   "cell_type": "code",
   "execution_count": null,
   "metadata": {},
   "outputs": [],
   "source": [
    "es.getCreaseAngles()"
   ]
  },
  {
   "cell_type": "code",
   "execution_count": null,
   "metadata": {},
   "outputs": [],
   "source": [
    "importlib.reload(fd_validation)\n",
    "#deltaVar[es.creaseAngleOffset():] = 0\n",
    "fd_validation.gradConvergencePlot(es, customArgs={'updatedSource': False, 'etype': es.EnergyType.Bending}, perturb=deltaVar) # non-updated source"
   ]
  },
  {
   "cell_type": "code",
   "execution_count": null,
   "metadata": {},
   "outputs": [],
   "source": [
    "gv = fd_validation.validateGrad(es, customArgs={'updatedSource': False, 'etype': es.EnergyType.Bending}, perturb=deltaVar)"
   ]
  },
  {
   "cell_type": "code",
   "execution_count": null,
   "metadata": {},
   "outputs": [],
   "source": [
    "gv = fd_validation.validateGrad(es, customArgs={'updatedSource': True, 'etype': es.EnergyType.Bending}, perturb=deltaVar)"
   ]
  },
  {
   "cell_type": "code",
   "execution_count": null,
   "metadata": {},
   "outputs": [],
   "source": [
    "gv"
   ]
  },
  {
   "cell_type": "code",
   "execution_count": null,
   "metadata": {},
   "outputs": [],
   "source": [
    "importlib.reload(fd_validation)\n",
    "fd_validation.gradConvergencePlot(es, customArgs={'updatedSource': False, 'etype': es.EnergyType.Bending}, perturb=deltaVar) # non-updated source"
   ]
  },
  {
   "cell_type": "code",
   "execution_count": null,
   "metadata": {},
   "outputs": [],
   "source": [
    "es.updateSourceFrame()"
   ]
  },
  {
   "cell_type": "code",
   "execution_count": null,
   "metadata": {},
   "outputs": [],
   "source": [
    "# Now we perturb out of plane and test the bending energy gradients\n",
    "es.setIdentityDeformation()\n",
    "es.setVars(es.getVars() + 1e-1 * np.random.normal(size=es.numVars()))\n",
    "es.updateSourceFrame()\n",
    "deltaVar = np.random.normal(size=es.numVars())"
   ]
  },
  {
   "cell_type": "code",
   "execution_count": null,
   "metadata": {},
   "outputs": [],
   "source": [
    "perturb = np.random.normal(size=es.numVars())\n",
    "#perturb[0:es.thetaOffset()] = 0.0"
   ]
  },
  {
   "cell_type": "code",
   "execution_count": null,
   "metadata": {},
   "outputs": [],
   "source": [
    "currVars = es.getVars()"
   ]
  },
  {
   "cell_type": "code",
   "execution_count": null,
   "metadata": {},
   "outputs": [],
   "source": [
    "es.updateSourceFrame()"
   ]
  },
  {
   "cell_type": "code",
   "execution_count": null,
   "metadata": {},
   "outputs": [],
   "source": [
    "ca = {'updatedSource': False, 'etype': es.EnergyType.Bending}\n",
    "r = fd_validation.validateHessian(es, perturb=perturb, customArgs=ca, fd_eps=1e-6)\n",
    "print(r[0])\n",
    "comp = np.array(r[1:])\n",
    "print(comp)"
   ]
  },
  {
   "cell_type": "code",
   "execution_count": null,
   "metadata": {},
   "outputs": [],
   "source": [
    "v = 0\n",
    "print(comp[:, 3*v:(3*v+3)])"
   ]
  },
  {
   "cell_type": "code",
   "execution_count": null,
   "metadata": {},
   "outputs": [],
   "source": [
    "es.updateSourceFrame()"
   ]
  },
  {
   "cell_type": "code",
   "execution_count": null,
   "metadata": {},
   "outputs": [],
   "source": [
    "#perturb[0:es.thetaOffset()] = 0.0\n",
    "#perturb[es.creaseAngleOffset():] = 0.0"
   ]
  },
  {
   "cell_type": "code",
   "execution_count": null,
   "metadata": {},
   "outputs": [],
   "source": [
    "es.setCreaseAngles(np.zeros_like(es.getCreaseAngles()))"
   ]
  },
  {
   "cell_type": "code",
   "execution_count": null,
   "metadata": {},
   "outputs": [],
   "source": [
    "#d_validation.hessConvergencePlot(es, customArgs={'updatedSource': False, 'etype': es.EnergyType.Bending}, perturb=perturb, indexInterval=[0, es.creaseAngleOffset()])\n",
    "fd_validation.hessConvergencePlot(es, customArgs={'updatedSource': False, 'etype': es.EnergyType.Bending}, perturb=perturb)"
   ]
  }
 ],
 "metadata": {
  "kernelspec": {
   "display_name": "Python 3",
   "language": "python",
   "name": "python3"
  },
  "language_info": {
   "codemirror_mode": {
    "name": "ipython",
    "version": 3
   },
   "file_extension": ".py",
   "mimetype": "text/x-python",
   "name": "python",
   "nbconvert_exporter": "python",
   "pygments_lexer": "ipython3",
   "version": "3.8.5"
  }
 },
 "nbformat": 4,
 "nbformat_minor": 4
}
