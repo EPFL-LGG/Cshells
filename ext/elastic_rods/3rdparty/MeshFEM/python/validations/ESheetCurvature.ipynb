{
 "cells": [
  {
   "cell_type": "code",
   "execution_count": null,
   "metadata": {},
   "outputs": [],
   "source": [
    "import sys\n",
    "import numpy as np\n",
    "sys.path.append('..')\n",
    "\n",
    "from matplotlib import pyplot as plt\n",
    "\n",
    "import MeshFEM\n",
    "import mesh, tri_mesh_viewer"
   ]
  },
  {
   "cell_type": "code",
   "execution_count": null,
   "metadata": {},
   "outputs": [],
   "source": [
    "#m = mesh.Mesh('../../misc/examples/meshes/ball.msh').boundaryMesh()\n",
    "m = mesh.Mesh('../../misc/examples/meshes/sphere_hires.msh')"
   ]
  },
  {
   "cell_type": "code",
   "execution_count": null,
   "metadata": {},
   "outputs": [],
   "source": [
    "v = tri_mesh_viewer.TriMeshViewer(m, wireframe=True, width=1024, height=768)\n",
    "v.show()"
   ]
  },
  {
   "cell_type": "code",
   "execution_count": null,
   "metadata": {},
   "outputs": [],
   "source": [
    "import elastic_sheet, energy, tensors\n",
    "\n",
    "et = tensors.ElasticityTensor2D(200, 0.3)\n",
    "psi = energy.StVenantKirchhoffCBased(et)\n",
    "\n",
    "es = elastic_sheet.ElasticSheet(m, psi)"
   ]
  },
  {
   "cell_type": "code",
   "execution_count": null,
   "metadata": {},
   "outputs": [],
   "source": [
    "def visualizeCurvature(sheet, view = None, which=None):\n",
    "    pcurv = sheet.getPrincipalCurvatures()\n",
    "    visField = which\n",
    "    if visField is None: visField = 0\n",
    "    if view is not None: view.update(preserveExisting=False, scalarField=pcurv[:, visField])\n",
    "    if which is None:\n",
    "        plt.hist(pcurv[:, 0], bins=100, alpha=0.75)\n",
    "        plt.hist(pcurv[:, 1], bins=100, alpha=0.75)\n",
    "    else:\n",
    "        plt.hist(pcurv[:, which], bins=100, alpha=0.75)\n",
    "    plt.show()"
   ]
  },
  {
   "cell_type": "code",
   "execution_count": null,
   "metadata": {},
   "outputs": [],
   "source": [
    "visualizeCurvature(es, v)"
   ]
  },
  {
   "cell_type": "code",
   "execution_count": null,
   "metadata": {},
   "outputs": [],
   "source": [
    "# Verify the effect of uniform scaling: curvatures should scale by the reciprocal of the scale factor\n",
    "es.setDeformedPositions(es.getDeformedPositions() * 2.0)"
   ]
  },
  {
   "cell_type": "code",
   "execution_count": null,
   "metadata": {},
   "outputs": [],
   "source": [
    "visualizeCurvature(es)"
   ]
  },
  {
   "cell_type": "code",
   "execution_count": null,
   "metadata": {},
   "outputs": [],
   "source": [
    "# Test curvature of a flat plate wrapped into a cylinder."
   ]
  },
  {
   "cell_type": "code",
   "execution_count": null,
   "metadata": {},
   "outputs": [],
   "source": [
    "import triangulation\n",
    "pts = [[0, 0], [0, 1], [1, 1], [1, 0]]\n",
    "edges = [[0, 1], [1, 2], [2, 3], [3, 0]]\n",
    "m_square = mesh.Mesh(*triangulation.triangulate(pts, edges, triArea=0.0001)[0:2], embeddingDimension=3)\n",
    "plate = elastic_sheet.ElasticSheet(m_square, psi)"
   ]
  },
  {
   "cell_type": "code",
   "execution_count": null,
   "metadata": {},
   "outputs": [],
   "source": [
    "plate.setIdentityDeformation()\n",
    "X = plate.getDeformedPositions()\n",
    "x = np.column_stack((np.sin(2 * np.pi * X[:, 0]) / (2 * np.pi), X[:, 1], np.cos(2 * np.pi * X[:, 0]) / (2 * np.pi)))\n",
    "plate.setDeformedPositions(x)"
   ]
  },
  {
   "cell_type": "markdown",
   "metadata": {},
   "source": [
    "Using the averaged midedge normals gives a pretty lousy discrete shape operator. However, the approximation is excellent if we infer the midedge\n",
    "normals by minimizing the squared Frobenius norm of the second fundamental form (which promotes a smoother shape operator field over the surface, removing the mesh-dependent fluctuations.)"
   ]
  },
  {
   "cell_type": "code",
   "execution_count": null,
   "metadata": {},
   "outputs": [],
   "source": [
    "plate.initializeMidedgeNormals(False) # re-initialize the midedge normals based on the deformed midsurface\n",
    "visualizeCurvature(plate)"
   ]
  },
  {
   "cell_type": "code",
   "execution_count": null,
   "metadata": {},
   "outputs": [],
   "source": [
    "plate.initializeMidedgeNormals(True) # re-initialze the midedge normals by minimizing the (integrated) second fundamental form's squared Frobenius norm\n",
    "visualizeCurvature(plate)"
   ]
  },
  {
   "cell_type": "code",
   "execution_count": null,
   "metadata": {},
   "outputs": [],
   "source": [
    "v_plate = tri_mesh_viewer.TriMeshViewer(plate, wireframe=True)\n",
    "v_plate.show()"
   ]
  },
  {
   "cell_type": "code",
   "execution_count": null,
   "metadata": {},
   "outputs": [],
   "source": [
    "plate_normalVis = tri_mesh_viewer.PointCloudViewer(plate.edgeMidpoints(), vectorField=plate.midedgeNormals(), superView=v_plate)\n",
    "plate_normalVis.arrowSize = 20\n",
    "visualizeCurvature(plate, v_plate)"
   ]
  },
  {
   "cell_type": "code",
   "execution_count": null,
   "metadata": {},
   "outputs": [],
   "source": [
    "pcurv = plate.getPrincipalCurvatures()\n",
    "np.median(pcurv, axis=0)"
   ]
  },
  {
   "cell_type": "code",
   "execution_count": null,
   "metadata": {},
   "outputs": [],
   "source": [
    "import scipy.spatial\n",
    "plate.applyRigidTransform(scipy.spatial.transform.Rotation.from_rotvec(np.random.normal(size=3)).as_matrix(), np.random.normal(size=3))\n",
    "pcurvRot = plate.getPrincipalCurvatures()\n",
    "pcurv - pcurvRot"
   ]
  },
  {
   "cell_type": "code",
   "execution_count": null,
   "metadata": {},
   "outputs": [],
   "source": [
    "plate.prepareRigidMotionPins()"
   ]
  },
  {
   "cell_type": "code",
   "execution_count": null,
   "metadata": {},
   "outputs": [],
   "source": [
    "plate.prepareRigidMotionPins()"
   ]
  },
  {
   "cell_type": "code",
   "execution_count": null,
   "metadata": {},
   "outputs": [],
   "source": [
    "plate.getVars()[plate.prepareRigidMotionPins()]"
   ]
  },
  {
   "cell_type": "code",
   "execution_count": null,
   "metadata": {},
   "outputs": [],
   "source": [
    "pcurvRot = plate.getPrincipalCurvatures()\n",
    "np.linalg.norm((pcurv - pcurvRot))"
   ]
  },
  {
   "cell_type": "markdown",
   "metadata": {},
   "source": [
    "Compare with curvatures computed when the cylindrical surface is used as the rest configuration."
   ]
  },
  {
   "cell_type": "code",
   "execution_count": null,
   "metadata": {},
   "outputs": [],
   "source": [
    "m_cylinder = m_square.copy()\n",
    "m_cylinder.setVertices(x)\n",
    "restPlate = elastic_sheet.ElasticSheet(m_cylinder, psi)\n",
    "restPCurv = restPlate.getPrincipalCurvatures()"
   ]
  },
  {
   "cell_type": "code",
   "execution_count": null,
   "metadata": {},
   "outputs": [],
   "source": [
    "np.median(restPCurv, axis=0)"
   ]
  },
  {
   "cell_type": "code",
   "execution_count": null,
   "metadata": {},
   "outputs": [],
   "source": [
    "np.max(np.abs(pcurv - restPCurv))"
   ]
  }
 ],
 "metadata": {
  "kernelspec": {
   "display_name": "Python 3",
   "language": "python",
   "name": "python3"
  },
  "language_info": {
   "codemirror_mode": {
    "name": "ipython",
    "version": 3
   },
   "file_extension": ".py",
   "mimetype": "text/x-python",
   "name": "python",
   "nbconvert_exporter": "python",
   "pygments_lexer": "ipython3",
   "version": "3.8.5"
  }
 },
 "nbformat": 4,
 "nbformat_minor": 4
}
