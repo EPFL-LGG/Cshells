{
 "cells": [
  {
   "cell_type": "markdown",
   "metadata": {},
   "source": [
    "## Finite difference validation of energy density derivatives"
   ]
  },
  {
   "cell_type": "code",
   "execution_count": null,
   "metadata": {},
   "outputs": [],
   "source": [
    "import sys; sys.path.append('..')\n",
    "import energy, tensors\n",
    "import numpy as np\n",
    "from numpy.linalg import norm\n",
    "from matplotlib import pyplot as plt"
   ]
  },
  {
   "cell_type": "code",
   "execution_count": null,
   "metadata": {},
   "outputs": [],
   "source": [
    "def         getNeoHookean(dim): return energy.NeoHookeanYoungPoisson(dim, 200, 0.35)\n",
    "def      getLinearElastic(dim): return energy.IsotropicLinearElastic(dim, 200, 0.35)\n",
    "def getCRIsoLinearElastic(dim): return energy.CorotatedIsotropicLinearElastic(dim, 200, 0.35)\n",
    "def        getNeoMembrane(dim): return energy.NeoHookeanMembraneYoungPoisson(200, 0.35) # Dimension is ignored..."
   ]
  },
  {
   "cell_type": "code",
   "execution_count": null,
   "metadata": {},
   "outputs": [],
   "source": [
    "def getOrthoTensor(dim):\n",
    "    if (dim == 3):\n",
    "        et = tensors.ElasticityTensor3D()\n",
    "        et.setOrthotropic(1, 1.5, 2, 0.3, 0.05, -0.03, 0.51, 0.73, 0.82)\n",
    "    if (dim == 2):\n",
    "        et = tensors.ElasticityTensor2D()\n",
    "        et.setOrthotropic(1, 1.5, -0.31, 0.58)\n",
    "        #et.setOrthotropic(1, 1, 0.3, 0.5)\n",
    "    return et\n",
    "def getCROrthoLinearElastic(dim):\n",
    "    return energy.CorotatedLinearElastic(getOrthoTensor(dim))\n",
    "def getStVKOrtho(dim):\n",
    "    return energy.StVenantKirchhoff(getOrthoTensor(dim))\n",
    "def getStVKMembrane(dim):\n",
    "    # Membranes are always the same dimension, but we use the\n",
    "    # `dim` parameter to enable/disable tension field theory relaxation\n",
    "    if (dim == 2): return energy.StVenantKirchhoffMembrane(getOrthoTensor(2))\n",
    "    return energy.RelaxedStVenantKirchhoffMembrane(getOrthoTensor(2))\n",
    "def getINeoMembrane(dim):\n",
    "    return energy.RelaxedIncompressibleNeoHookeanMembrane(1)\n",
    "def getCRLETFTMembrane(dim):\n",
    "    psi = energy.IsoCRLETensionFieldMembrane2D(E=6, nu=0.5)\n",
    "    psi.relaxationEnabled = psi.smoothingEnabled = False if (dim == 2) else True\n",
    "    psi.smoothingEps = 1 / 256\n",
    "    return psi"
   ]
  },
  {
   "cell_type": "code",
   "execution_count": null,
   "metadata": {},
   "outputs": [],
   "source": [
    "def getPerturb(F):\n",
    "    return np.random.uniform(-1, 1, F.shape)\n",
    "\n",
    "def fd_approx(e, f, F, dF, eps = 1e-6):\n",
    "    e.setDeformationGradient(F + eps * dF)\n",
    "    plus = f()\n",
    "    e.setDeformationGradient(F - eps * dF)\n",
    "    minus = f()\n",
    "    e.setDeformationGradient(F)\n",
    "    return (plus - minus) / (2 * eps)\n",
    "\n",
    "def relerror(fd, an):\n",
    "    den = norm(an)\n",
    "    if (den == 0.0): den = 1\n",
    "    return norm(fd - an) / den\n",
    "\n",
    "def denergy_validation_raw(e, F, dF, eps = 1e-6):\n",
    "    fd = fd_approx(e, lambda: e.energy(), F, dF, eps)\n",
    "    an = e.denergy(dF)\n",
    "    return fd, an\n",
    "def denergy_validation(e, F, dF, eps = 1e-6):\n",
    "    return relerror(*denergy_validation_raw(e, F, dF, eps))\n",
    "\n",
    "def delta_denergy_validation_raw(e, F, dF, eps = 1e-6):\n",
    "    fd = fd_approx(e, lambda: e.denergy(), F, dF, eps)\n",
    "    an = e.delta_denergy(dF)\n",
    "    return fd, an\n",
    "def delta_denergy_validation(e, F, dF, eps = 1e-6):\n",
    "    return relerror(*delta_denergy_validation_raw(e, F, dF, eps))\n",
    "\n",
    "def delta2_denergy_validation_raw(e, F, dF_a, dF_b, eps = 1e-6):\n",
    "    fd = fd_approx(e, lambda: e.delta_denergy(dF_a), F, dF_b, eps)\n",
    "    an = e.delta2_denergy(dF_b, dF_a)\n",
    "    return fd, an\n",
    "def delta2_denergy_validation(e, F, dF_a, dF_b, eps = 1e-6):\n",
    "    return relerror(*delta2_denergy_validation_raw(e, F, dF_a, dF_b, eps))\n",
    "\n",
    "def genPlots(getEnergy):\n",
    "    def test(dim):\n",
    "        e = getEnergy(dim)\n",
    "        F = e.getDeformationGradient()\n",
    "        minDim = min(F.shape)\n",
    "\n",
    "        dF_a = getPerturb(F)\n",
    "        dF_b = getPerturb(F)\n",
    "        F = getPerturb(F)\n",
    "        U, S, V = np.linalg.svd(F)\n",
    "        # On the transition from full tension to partial tension\n",
    "        S[0] = 1.0 + 0.002\n",
    "        S[1] = 1.0 - 0.001\n",
    "        # Two nearly equal singular values in the small tension case\n",
    "        S[0] = 1.0 + 1/512\n",
    "        S[1] = 1.0 + 1/512 - 1e-5\n",
    "        F = U @ np.pad(np.diag(S), [(0, F.shape[0] - F.shape[1]), (0, 0)]) @ V.T\n",
    "        \n",
    "        e.setDeformationGradient(F)\n",
    "\n",
    "        epsilons = np.logspace(-3, -8, 100)\n",
    "        plt.loglog(epsilons, [       denergy_validation(e, F, dF_a,       eps) for eps in epsilons], label=       'denergy')\n",
    "        plt.loglog(epsilons, [ delta_denergy_validation(e, F, dF_a,       eps) for eps in epsilons], label='delta  denergy')\n",
    "        try: # Some energies do not implement third derivatives\n",
    "            plt.loglog(epsilons, [delta2_denergy_validation(e, F, dF_a, dF_b, eps) for eps in epsilons], label='delta2 denergy')\n",
    "        except: pass\n",
    "        plt.legend()\n",
    "        name = e.__class__.__name__\n",
    "        try: name += \" (Isotropic)\" if e.isIsotropic() else \"  (Orthotropic)\"\n",
    "        except: pass\n",
    "        plt.title(name)\n",
    "        plt.grid()\n",
    "    fig = plt.figure(figsize=(10, 4))\n",
    "    for dim in [2, 3]:\n",
    "        plt.subplot(1, 2, dim - 1)\n",
    "        test(dim)\n",
    "    plt.tight_layout()"
   ]
  },
  {
   "cell_type": "code",
   "execution_count": null,
   "metadata": {},
   "outputs": [],
   "source": [
    "egetters = [getNeoHookean, getLinearElastic, getCRIsoLinearElastic, getCROrthoLinearElastic, getStVKOrtho, getStVKMembrane, getINeoMembrane, getNeoMembrane, getCRLETFTMembrane]\n",
    "for ge in egetters:\n",
    "    genPlots(ge)"
   ]
  },
  {
   "cell_type": "markdown",
   "metadata": {},
   "source": [
    "### For more detailed debugging in case things go wrong:"
   ]
  },
  {
   "cell_type": "code",
   "execution_count": null,
   "metadata": {},
   "outputs": [],
   "source": [
    "getEnergy = getCROrthoLinearElastic"
   ]
  },
  {
   "cell_type": "code",
   "execution_count": null,
   "metadata": {},
   "outputs": [],
   "source": [
    "dim = 2\n",
    "e = getEnergy(dim)\n",
    "F = np.identity(dim)\n",
    "e.setDeformationGradient(F)\n",
    "\n",
    "dF_a = getPerturb(F)\n",
    "dF_b = getPerturb(F)\n",
    "\n",
    "F += 1e-3 * getPerturb(F)\n",
    "\n",
    "# Verify symmetry\n",
    "print(delta2_denergy_validation_raw(e, F, dF_a, dF_b, eps = 1e-6)[1])\n",
    "print(delta2_denergy_validation_raw(e, F, dF_b, dF_a, eps = 1e-6)[1])"
   ]
  },
  {
   "cell_type": "code",
   "execution_count": null,
   "metadata": {},
   "outputs": [],
   "source": [
    "dim = 3\n",
    "quantity='sigma'\n",
    "e = getEnergy(dim)\n",
    "quantityGetter = getattr(e, quantity)\n",
    "deltaGetter = getattr(e, f'delta_{quantity}')\n",
    "eps = 1e-5\n",
    "F = np.identity(dim)\n",
    "F += eps * getPerturb(F)\n",
    "e.setDeformationGradient(F)\n",
    "dF = getPerturb(F)\n",
    "an = deltaGetter(dF)\n",
    "e.setDeformationGradient(F + eps * dF)\n",
    "Rplus  = quantityGetter()\n",
    "e.setDeformationGradient(F - eps * dF)\n",
    "Rminus = quantityGetter()\n",
    "fd = (Rplus - Rminus) / (2 * eps)\n",
    "np.linalg.norm(fd - an)"
   ]
  },
  {
   "cell_type": "code",
   "execution_count": null,
   "metadata": {},
   "outputs": [],
   "source": [
    "getEnergy = getStVKOrtho"
   ]
  },
  {
   "cell_type": "code",
   "execution_count": null,
   "metadata": {},
   "outputs": [],
   "source": [
    "dim = 2\n",
    "e = getEnergy(dim)\n",
    "F = np.identity(dim)\n",
    "e.setDeformationGradient(F)\n",
    "\n",
    "dF_a = getPerturb(F)\n",
    "dF_b = getPerturb(F)\n",
    "\n",
    "F += 1e-3 * getPerturb(F)"
   ]
  },
  {
   "cell_type": "code",
   "execution_count": null,
   "metadata": {},
   "outputs": [],
   "source": [
    "fd_approx(e, lambda: e.energy(), F, dF_a) * 2"
   ]
  },
  {
   "cell_type": "code",
   "execution_count": null,
   "metadata": {},
   "outputs": [],
   "source": [
    "e.denergy(dF_a)"
   ]
  }
 ],
 "metadata": {
  "kernelspec": {
   "display_name": "Python 3",
   "language": "python",
   "name": "python3"
  },
  "language_info": {
   "codemirror_mode": {
    "name": "ipython",
    "version": 3
   },
   "file_extension": ".py",
   "mimetype": "text/x-python",
   "name": "python",
   "nbconvert_exporter": "python",
   "pygments_lexer": "ipython3",
   "version": "3.8.6"
  }
 },
 "nbformat": 4,
 "nbformat_minor": 4
}
