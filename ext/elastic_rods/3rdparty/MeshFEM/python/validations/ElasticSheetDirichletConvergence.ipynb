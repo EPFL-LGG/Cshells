{
 "cells": [
  {
   "cell_type": "code",
   "execution_count": null,
   "metadata": {},
   "outputs": [],
   "source": [
    "import sys; sys.path.append('..')\n",
    "import sheet_convergence, sim_utils\n",
    "from tri_mesh_viewer import TriMeshViewer\n",
    "import numpy as np"
   ]
  },
  {
   "cell_type": "code",
   "execution_count": null,
   "metadata": {},
   "outputs": [],
   "source": [
    "thickness = 0.05"
   ]
  },
  {
   "cell_type": "code",
   "execution_count": null,
   "metadata": {},
   "outputs": [],
   "source": [
    "sheetResult = sheet_convergence.sheetConvergenceSweep(thickness, np.logspace(-1.5, -4, 15))\n",
    "tetResult = sheet_convergence.tetConvergenceSweep(thickness, np.logspace(-3, -4, 15))\n",
    "sheet_convergence.convergencePlot(thickness, sheetResult, tetResult)"
   ]
  },
  {
   "cell_type": "code",
   "execution_count": null,
   "metadata": {},
   "outputs": [],
   "source": [
    "# Compare the midsurface strain distributions in the sheet and solid model."
   ]
  },
  {
   "cell_type": "code",
   "execution_count": null,
   "metadata": {},
   "outputs": [],
   "source": [
    "_, esheet = sheet_convergence.dirichletSheetSim(thickness, 0.0005)\n",
    "_, esolid = sheet_convergence.dirichletTetSimulation(thickness, maxVol=5e-6)"
   ]
  },
  {
   "cell_type": "code",
   "execution_count": null,
   "metadata": {},
   "outputs": [],
   "source": [
    "# Compute the vertex-averaged maximum principal strains\n",
    "import field_sampler\n",
    "fs = field_sampler.FieldSampler(esolid.mesh())\n",
    "\n",
    "emax_sheet = [np.linalg.eigh(e)[0].max() for e in esheet.vertexGreenStrains()]\n",
    "emax_solid = [np.linalg.eigh(e)[0].max() for e in esolid.vertexGreenStrains()]\n",
    "\n",
    "# Also sample the tet simulation's piecewise linear vertex-averaged strain field at the midsurface sheet mesh vertices.\n",
    "emax_solid_on_sheet = [np.linalg.eigh(e)[0].max() for e in fs.sample(esheet.mesh().vertices(),\n",
    "                                                                     np.array(esolid.vertexGreenStrains()).reshape((-1, 9))).reshape(-1, 3, 3)]"
   ]
  },
  {
   "cell_type": "code",
   "execution_count": null,
   "metadata": {},
   "outputs": [],
   "source": [
    "# Visualize strain and inspect mesh resolution on the undeformed configuration\n",
    "v3 = TriMeshViewer(esolid.mesh(), scalarField=emax_solid, wireframe=True)\n",
    "v3.show()"
   ]
  },
  {
   "cell_type": "code",
   "execution_count": null,
   "metadata": {},
   "outputs": [],
   "source": [
    "import vis\n",
    "from ipywidgets import HBox\n",
    "\n",
    "vmin = min(np.min(emax_sheet), np.min(emax_solid_on_sheet))\n",
    "vmax = max(np.max(emax_sheet), np.max(emax_solid_on_sheet))\n",
    "\n",
    "sf_sheet = vis.fields.ScalarField(esheet, emax_sheet         , vmin=vmin, vmax=vmax)\n",
    "sf_solid = vis.fields.ScalarField(esheet, emax_solid_on_sheet, vmin=vmin, vmax=vmax)\n",
    "\n",
    "vdefo = TriMeshViewer(esolid, scalarField=emax_solid, wireframe=True) #volumetric deformation\n",
    "sheetView = TriMeshViewer(esheet, scalarField=sf_sheet)\n",
    "sampledSolidView = TriMeshViewer(esheet, scalarField=sf_solid)\n",
    "HBox([sheetView.show(), sampledSolidView.show(), vdefo.show()])"
   ]
  },
  {
   "cell_type": "code",
   "execution_count": null,
   "metadata": {},
   "outputs": [],
   "source": [
    "sampledSolidView.setCameraParams(sheetView.getCameraParams())\n",
    "vdefo.setCameraParams(sheetView.getCameraParams())"
   ]
  }
 ],
 "metadata": {
  "kernelspec": {
   "display_name": "Python 3",
   "language": "python",
   "name": "python3"
  },
  "language_info": {
   "codemirror_mode": {
    "name": "ipython",
    "version": 3
   },
   "file_extension": ".py",
   "mimetype": "text/x-python",
   "name": "python",
   "nbconvert_exporter": "python",
   "pygments_lexer": "ipython3",
   "version": "3.9.0+"
  }
 },
 "nbformat": 4,
 "nbformat_minor": 4
}
