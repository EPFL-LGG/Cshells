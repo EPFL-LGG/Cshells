{
 "cells": [
  {
   "cell_type": "markdown",
   "metadata": {},
   "source": [
    "## Validation of tension field theory relaxed energy densities"
   ]
  },
  {
   "cell_type": "code",
   "execution_count": null,
   "metadata": {},
   "outputs": [],
   "source": [
    "import energy, tensors\n",
    "import numpy as np\n",
    "from numpy.linalg import norm\n",
    "from matplotlib import pyplot as plt\n",
    "import fd_validation\n",
    "\n",
    "et = tensors.ElasticityTensor2D()\n",
    "et.setIsotropic(1, 0.3)\n",
    "et.setOrthotropic(1, 1, 0.3, 1)\n",
    "\n",
    "def getPerturbedC(eps):\n",
    "    F = np.identity(2) + eps * np.random.uniform(size=(2, 2))\n",
    "    return F.T @ F\n",
    "\n",
    "psi_C = energy.StVenantKirchhoffCBased(et)\n",
    "n = np.random.uniform(size=2)\n",
    "n /= np.linalg.norm(n)"
   ]
  },
  {
   "cell_type": "code",
   "execution_count": null,
   "metadata": {},
   "outputs": [],
   "source": [
    "iwsp = energy.IsotropicWrinkleStrainProblem(psi_C, getPerturbedC(1e-3), n)\n",
    "\n",
    "plt.figure(figsize=(8,4))\n",
    "plt.subplot(1, 2, 1)\n",
    "fd_validation.gradConvergencePlot(iwsp)\n",
    "plt.subplot(1, 2, 2)\n",
    "fd_validation.hessConvergencePlot(iwsp)\n",
    "plt.tight_layout()"
   ]
  },
  {
   "cell_type": "code",
   "execution_count": null,
   "metadata": {},
   "outputs": [],
   "source": [
    "awsp = energy.AnisotropicWrinkleStrainProblem(psi_C, getPerturbedC(1e-3), n)\n",
    "\n",
    "plt.figure(figsize=(8,4))\n",
    "plt.subplot(1, 2, 1)\n",
    "fd_validation.gradConvergencePlot(awsp)\n",
    "plt.subplot(1, 2, 2)\n",
    "fd_validation.hessConvergencePlot(awsp)\n",
    "plt.tight_layout()"
   ]
  },
  {
   "cell_type": "code",
   "execution_count": null,
   "metadata": {},
   "outputs": [],
   "source": [
    "def getRelaxedStVk(dim):\n",
    "    return energy.RelaxedStVenantKirchhoffMembrane(et)"
   ]
  },
  {
   "cell_type": "code",
   "execution_count": null,
   "metadata": {},
   "outputs": [],
   "source": [
    "e = energy.RelaxedStVenantKirchhoffMembrane(et)\n",
    "F = e.getDeformationGradient()\n",
    "F[0, 0] += 0.01\n",
    "F[1, 1] += 0.01\n",
    "e.setDeformationGradient(F)\n",
    "e.tensionState()"
   ]
  },
  {
   "cell_type": "code",
   "execution_count": null,
   "metadata": {},
   "outputs": [],
   "source": [
    "def getPerturb(F):\n",
    "    return np.random.uniform(-1, 1, F.shape)\n",
    "\n",
    "def fd_approx(e, f, F, dF, eps = 1e-6):\n",
    "    e.setDeformationGradient(F + eps * dF)\n",
    "    plus = f()\n",
    "    e.setDeformationGradient(F - eps * dF)\n",
    "    minus = f()\n",
    "    e.setDeformationGradient(F)\n",
    "    return (plus - minus) / (2 * eps)\n",
    "\n",
    "def relerror(fd, an):\n",
    "    den = norm(an)\n",
    "    if (den == 0.0): den = 1\n",
    "    return norm(fd - an) / den\n",
    "\n",
    "def denergy_validation_raw(e, F, dF, eps = 1e-6):\n",
    "    fd = fd_approx(e, lambda: e.energy(), F, dF, eps)\n",
    "    an = e.denergy(dF)\n",
    "    return fd, an\n",
    "def denergy_validation(e, F, dF, eps = 1e-6):\n",
    "    return relerror(*denergy_validation_raw(e, F, dF, eps))\n",
    "\n",
    "def delta_denergy_validation_raw(e, F, dF, eps = 1e-6):\n",
    "    fd = fd_approx(e, lambda: e.denergy(), F, dF, eps)\n",
    "    an = e.delta_denergy(dF)\n",
    "    return fd, an\n",
    "def delta_denergy_validation(e, F, dF, eps = 1e-6):\n",
    "    return relerror(*delta_denergy_validation_raw(e, F, dF, eps))\n",
    "\n",
    "def delta2_denergy_validation_raw(e, F, dF_a, dF_b, eps = 1e-6):\n",
    "    fd = fd_approx(e, lambda: e.delta_denergy(dF_a), F, dF_b, eps)\n",
    "    an = e.delta2_denergy(dF_b, dF_a)\n",
    "    return fd, an\n",
    "def delta2_denergy_validation(e, F, dF_a, dF_b, eps = 1e-6):\n",
    "    return relerror(*delta2_denergy_validation_raw(e, F, dF_a, dF_b, eps))\n",
    "\n",
    "def genPlots(getEnergy):\n",
    "    def test(dim):\n",
    "        e = getEnergy(dim)\n",
    "        F = e.getDeformationGradient()\n",
    "        minDim = min(F.shape)\n",
    "        F[0:minDim, 0:minDim] = np.identity(minDim)\n",
    "        F = e.getDeformationGradient()\n",
    "        F[0, 0] += 0.05\n",
    "        F[1, 1] -= 0.09\n",
    "        #F += 1e-2 * getPerturb(F)\n",
    "        #F = np.array([[ 1.10053726e+00,  3.90594218e-04], \n",
    "        #      [-2.18652537e-03,  1.00972438e+00], \n",
    "        #      [-5.26725946e-03,  2.06696459e-03]])\n",
    "        print(F)\n",
    "        e.setDeformationGradient(F)\n",
    "        print(e.tensionState())\n",
    "\n",
    "        dF_a = getPerturb(F)\n",
    "        dF_b = getPerturb(F)\n",
    "\n",
    "        epsilons = np.logspace(-2, -8, 100)\n",
    "        plt.loglog(epsilons, [       denergy_validation(e, F, dF_a,       eps) for eps in epsilons], label=       'denergy')\n",
    "        plt.loglog(epsilons, [ delta_denergy_validation(e, F, dF_a,       eps) for eps in epsilons], label='delta  denergy')\n",
    "        try: # Some energies do not implement third derivatives\n",
    "            plt.loglog(epsilons, [delta2_denergy_validation(e, F, dF_a, dF_b, eps) for eps in epsilons], label='delta2 denergy')\n",
    "        except: pass\n",
    "        plt.legend()\n",
    "        name = e.__class__.__name__\n",
    "        try: name += \" (Isotropic)\" if e.isIsotropic() else \"  (Orthotropic)\"\n",
    "        except: pass\n",
    "        plt.title(name)\n",
    "        plt.grid()\n",
    "    fig = plt.figure(figsize=(10, 4))\n",
    "    for dim in [2, 3]:\n",
    "        plt.subplot(1, 2, dim - 1)\n",
    "        test(dim)\n",
    "    plt.tight_layout()"
   ]
  },
  {
   "cell_type": "code",
   "execution_count": null,
   "metadata": {},
   "outputs": [],
   "source": [
    "for ge in [getRelaxedStVk]:\n",
    "    genPlots(ge)"
   ]
  },
  {
   "cell_type": "code",
   "execution_count": null,
   "metadata": {},
   "outputs": [],
   "source": [
    "# Force-strain angular plot"
   ]
  },
  {
   "cell_type": "code",
   "execution_count": null,
   "metadata": {},
   "outputs": [],
   "source": [
    "dx = 0.001\n",
    "F = np.array([[1 + dx, 0], [0, 1 - dx], [0, 0]]) #Uniaxial stretch\n",
    "R = lambda t: np.array([[np.cos(t), -np.sin(t)], [np.sin(t), np.cos(t)]])"
   ]
  },
  {
   "cell_type": "code",
   "execution_count": null,
   "metadata": {},
   "outputs": [],
   "source": [
    "#et.setOrthotropic(1, 1, 0.3, 0.3)\n",
    "mu = 17 / 2\n",
    "nu = 1 - 1 / (2 * mu) # Set the Poisson's ratio so that uniaxial tension in the 45 degree direction produces a pure shear state\n",
    "#nu = 0.48\n",
    "#nu = 0\n",
    "et.setOrthotropic(1, 1, nu, mu)\n",
    "psi_C.elasticityTensor = et\n",
    "e.psi().elasticityTensor = et\n",
    "Frot = F @ R(th).T"
   ]
  },
  {
   "cell_type": "code",
   "execution_count": null,
   "metadata": {},
   "outputs": [],
   "source": [
    "# We need a surprisingly high Poisson's ratio to get this extreme a stiffness variation.\n",
    "nu"
   ]
  },
  {
   "cell_type": "code",
   "execution_count": null,
   "metadata": {},
   "outputs": [],
   "source": [
    "# This high Poisson's ratio actually makes sense if we consider the Homogenized properties of\n",
    "# a + shaped tiling...\n",
    "et.setOrthotropic(0.45691, 0.456844, 0.978457, 9.70376)\n",
    "psi_C.elasticityTensor = et\n",
    "e.psi().elasticityTensor = et"
   ]
  },
  {
   "cell_type": "code",
   "execution_count": null,
   "metadata": {},
   "outputs": [],
   "source": [
    "import plots, importlib\n",
    "importlib.reload(plots)\n",
    "plots.tensionForcePolarPlot(0.001, [e, psi_C], ['$\\psi_r$', '$\\psi$'], [True, False])"
   ]
  }
 ],
 "metadata": {
  "kernelspec": {
   "display_name": "Python 3",
   "language": "python",
   "name": "python3"
  },
  "language_info": {
   "codemirror_mode": {
    "name": "ipython",
    "version": 3
   },
   "file_extension": ".py",
   "mimetype": "text/x-python",
   "name": "python",
   "nbconvert_exporter": "python",
   "pygments_lexer": "ipython3",
   "version": "3.7.5"
  }
 },
 "nbformat": 4,
 "nbformat_minor": 4
}
